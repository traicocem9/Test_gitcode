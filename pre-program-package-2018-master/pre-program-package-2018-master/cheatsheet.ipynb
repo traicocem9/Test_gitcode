{
 "cells": [
  {
   "cell_type": "markdown",
   "metadata": {},
   "source": [
    "# Github, Numpy, Pandas cheatsheets\n",
    "## MaSSP 2018, Computer Science"
   ]
  },
  {
   "cell_type": "markdown",
   "metadata": {},
   "source": [
    "__Chuẩn bị: Xếp Châu__\n",
    "\n",
    "Github: Dựa theo https://services.github.com/on-demand/downloads/github-git-cheat-sheet.pdf."
   ]
  },
  {
   "cell_type": "markdown",
   "metadata": {},
   "source": [
    "Sau đây là một số hàm cần thiết trong chương trình MaSSP Tin học.\n",
    "* [Các lệnh cơ bản trong Github](#Các-lệnh-cơ-bản-trong-Github)\n",
    "* [Các thao tác tính toán trong Numpy](#Các-thao-tác-tính-toán-trong-Numpy)\n",
    "* [Các thao tác trong Pandas](#Các-thao-tác-trong-Pandas)"
   ]
  },
  {
   "cell_type": "markdown",
   "metadata": {},
   "source": [
    "# Các lệnh cơ bản trong Github\n",
    "\n",
    "| Lệnh                             | Ý nghĩa                                |\n",
    "|:---------------------------------|:---------------------------------------|\n",
    "| __Configure__| Config username, email cho máy, tránh phải nhập mỗi lần commit |\n",
    "| git config --global user.name \"[name]\" | Đặt tên người dùng mỗi lần commit |\n",
    "| git config --global user.email \"[email address]\" | Đặt email gán với mỗi lần commit |\n",
    "| __Tạo repo__ | |\n",
    "| git init [project-name] | Tạo repo dự án mới |\n",
    "| git clone [url] | Tải một repo xuống, url có dạng github.com/[author]/[project-name.git], ví dụ https://github.com/masspvn/pre-program-package.git. Ngoài ra cũng có thể tải repo xuống dưới dạng zip. |\n",
    "| __Thay đổi repo__ | |\n",
    "| git status | List ra toàn bộ các file mới hoặc bị thay đổi |\n",
    "| git add file1 file2 | file1 và file2 là 2 files mới hoặc mới bị thay đổi, dùng lệnh này để git biết sẽ \"version control\" những file này |\n",
    "| git add /path/to/\\* | version control tất cả các file trong thư mục /path/to/ |\n",
    "| git commit -m \"Some meaningful message about this commit\" | Lưu lại các file được version control. Chú ý commit message cần ngắn gọn, dễ hiểu, tóm tắt lại những thay đổi của version này so với version trước |\n",
    "| __Sync__ | |\n",
    "| git pull | Tải về những thay đổi mới những người khác đã commit vào repo |\n",
    "| git push origin master| Đưa thay đổi của những local commit lên repo trên Github - khi người khác dùng lệnh git pull ở trên, họ sẽ thấy những thay đổi này. \"master\" là tên nhánh chính của repo. Trong chương trình MaSSP các bạn chỉ cần dùng nhánh chính này. Nếu có thắc mắc về cách dùng nhánh phụ, hãy hỏi các mentor!|"
   ]
  },
  {
   "cell_type": "markdown",
   "metadata": {},
   "source": [
    "# Các thao tác tính toán trong Numpy\n",
    "| Numpy                        | Ý nghĩa                                                |\n",
    "|:----------------------------|:-------------------------------------------------------|\n",
    "| __Khởi tạo ma trận__ ||\n",
    "| np.ones((2, 3))              | tạo ma trận 2x3, mỗi phần tử có giá trị 1. (float)     |\n",
    "| np.zeros((2, 3))             | tạo ma trận 2x3, mỗi phần tử có giá trị 0. (float)     |\n",
    "| __Các thao tác tính toán với một biến__||\n",
    "| np.square(x) | Bình phương x element-wise |\n",
    "| np.sqrt(x) | Căn bậc 2 của x element-wise |\n",
    "| np.abs(x) | Trị tuyệt đối của x element-wise |\n",
    "| np.round(x) | Làm tròn đến giá trị nguyên gần nhất element-wise (1.5 sẽ làm tròn lên thành 2) |\n",
    "| np.power(x, y) | Lũy thừa x^y element-wise |\n",
    "| np.exp(x) | Lũy thừa e^x element-wise |\n",
    "| np.log(x) | Log của x element-wise, tf.log(0) trả -inf |\n",
    "| np.mean(x, axis=k) | Trả trung bình cộng theo chiều kth của x. Nếu không cho k, trả về một số thực là trung bình cộng của tất cả phần tử trong x |\n",
    "| np.transpose(x, axes=new_axes) | Transpose ma trận x theo hoán vị các chiều mới new_axes, ví dụ (2, 1, 0) cho ma trận 3 chiều x |\n",
    "| __Các thao tác tính toán với hai biến__||\n",
    "| np.add(x, y) hay (x + y) | Cộng 2 ma trận. Nếu một trong 2 biến là số thực, cộng từng phần tử của ma trận với số thực đó |\n",
    "| np.subtract(x, y) hay (x - y) | Trừ 2 ma trận |\n",
    "| np.multiply(x, y) hay (x * y) | Nhân 2 ma trận element-wise |\n",
    "| np.divide(x, y) hay (x / y) | Chia 2 ma trận element-wise |\n",
    "| np.matmul(x, y) | Nhân 2 ma trận, số cột của x phải bằng số hàng của y |\n",
    "| np.maximum(x, y) | x, y là 2 ma trận cùng kích thước. Trả về 1 ma trận, mỗi phần tử là giá trị lớn hơn khi so sánh x, y |\n",
    "| np.minimum(x, y) | x, y là 2 ma trận cùng kích thước. Trả về 1 ma trận, mỗi phần tử là giá trị nhỏ hơn khi so sánh x, y |\n",
    "| np.equal(x, y) hay (x == y) | Trả True hoặc False cho x == y element-wise |\n",
    "| np.not_equal(x, y) hay (x != y) | Trả True hoặc False cho x != y element-wise |"
   ]
  },
  {
   "cell_type": "markdown",
   "metadata": {},
   "source": [
    "# Các thao tác trong Pandas\n",
    "\n",
    "(Phỏng theo cheatsheet tại https://www.datacamp.com/community/blog/python-pandas-cheat-sheet)"
   ]
  },
  {
   "cell_type": "code",
   "execution_count": 3,
   "metadata": {},
   "outputs": [
    {
     "data": {
      "text/html": [
       "<div>\n",
       "<style>\n",
       "    .dataframe thead tr:only-child th {\n",
       "        text-align: right;\n",
       "    }\n",
       "\n",
       "    .dataframe thead th {\n",
       "        text-align: left;\n",
       "    }\n",
       "\n",
       "    .dataframe tbody tr th {\n",
       "        vertical-align: top;\n",
       "    }\n",
       "</style>\n",
       "<table border=\"1\" class=\"dataframe\">\n",
       "  <thead>\n",
       "    <tr style=\"text-align: right;\">\n",
       "      <th></th>\n",
       "      <th>Country</th>\n",
       "      <th>Capital</th>\n",
       "      <th>Population</th>\n",
       "    </tr>\n",
       "  </thead>\n",
       "  <tbody>\n",
       "    <tr>\n",
       "      <th>0</th>\n",
       "      <td>Belgium</td>\n",
       "      <td>Brussels</td>\n",
       "      <td>11190846</td>\n",
       "    </tr>\n",
       "    <tr>\n",
       "      <th>1</th>\n",
       "      <td>India</td>\n",
       "      <td>New Delhi</td>\n",
       "      <td>1303171035</td>\n",
       "    </tr>\n",
       "    <tr>\n",
       "      <th>2</th>\n",
       "      <td>Brazil</td>\n",
       "      <td>Brasília</td>\n",
       "      <td>207847528</td>\n",
       "    </tr>\n",
       "  </tbody>\n",
       "</table>\n",
       "</div>"
      ],
      "text/plain": [
       "   Country    Capital  Population\n",
       "0  Belgium   Brussels    11190846\n",
       "1    India  New Delhi  1303171035\n",
       "2   Brazil   Brasília   207847528"
      ]
     },
     "execution_count": 3,
     "metadata": {},
     "output_type": "execute_result"
    }
   ],
   "source": [
    "import pandas as pd\n",
    "data = {'Country': ['Belgium', 'India', 'Brazil'],\n",
    "        'Capital': ['Brussels', 'New Delhi', 'Brasília'],\n",
    "        'Population': [11190846, 1303171035, 207847528]}\n",
    "df = pd.DataFrame(data, columns=['Country', 'Capital', 'Population'])\n",
    "df"
   ]
  },
  {
   "cell_type": "markdown",
   "metadata": {},
   "source": [
    "\n",
    "| <h3>Pandas</h3>                    | <h3>Ý nghĩa</h3>      |\n",
    "|:----------------------------|:------------------------------------------------------|\n",
    "| __I/O__ | |\n",
    "| df = pd.read_csv('file.csv', header=None, nrows=5)| load dữ liệu từ file.csv |\n",
    "| df = pd.read_excel( pd.ExcelFile('file.xls'), 'Sheet1')| load dữ liệu từ Sheet1 của file.xls |\n",
    "| df.to_csv('myDataFrame.csv')| chép dữ liệu vào file có tên myDataFrame.csv|\n",
    "| __Lấy thông tin__ | |\n",
    "| df.shape | trả (số hàng, số cột) |\n",
    "| df.columns | trả tên các cột |\n",
    "| df.info() | thông tin của dataframe |\n",
    "| df.describe() | số liệu thống kê của các cột có dữ liệu số |\n",
    "| df.head() | Trả một DataFrame chứa một số hàng đầu |\n",
    "| df.tail() | Trả một DataFrame chứa một số hàng cuối|\n",
    "| df.count() | số phần tử không phải NA |\n",
    "| df.sum() | tính tổng các phần tử |\n",
    "| df.min(), df.max() | giá trị nhỏ nhất, lớn nhất |\n",
    "| df.mean(), df.median() | giá trị trung bình, median |\n",
    "| __Cách chọn hàng, cột__ | |\n",
    "| df['Country'] | lấy cột 'Country' (['Belgium', 'India', 'Brazil'])   |\n",
    "| df[1:] | lấy hàng 1 trở đi (bỏ hàng 0) |\n",
    "| df.iloc[[0],[0]]  | lấy phần tử hàng đầu tiên, cột đầu tiên (Belgium) |\n",
    "| df.loc[[0], ['Country']] | lấy phần tử hàng đầu tiên, cột 'Country' (Belgium)|\n",
    "| df[df['Population']>1200000000]  | chọn hàng có giá trị 'Population' lớn hơn 1,2 tỷ |\n",
    "| df.drop('Country', axis=1) | bỏ cột 'Country' |\n",
    "| df.sort_values(by='Country') | sắp xếp theo tên nước |\n",
    "| __Chỉnh sửa dữ liệu__ | |\n",
    "| df.fillna({ 'col_1': 0, 'col_2': 'no data' }) | Biến những dữ liệu trống (NaN) trong cột 'col_1' thành giá trị số 0, trong cột 'col_2' thành string 'no data' |\n",
    "| df.replace(['old_1', 'old_2'], 'new') | Thay thế những giá trị 'old_1', 'old_2' thành 'new' |\n"
   ]
  }
 ],
 "metadata": {
  "kernelspec": {
   "display_name": "Python 3",
   "language": "python",
   "name": "python3"
  },
  "language_info": {
   "codemirror_mode": {
    "name": "ipython",
    "version": 3
   },
   "file_extension": ".py",
   "mimetype": "text/x-python",
   "name": "python",
   "nbconvert_exporter": "python",
   "pygments_lexer": "ipython3",
   "version": "3.6.1"
  }
 },
 "nbformat": 4,
 "nbformat_minor": 2
}
