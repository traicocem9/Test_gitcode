{
 "cells": [
  {
   "cell_type": "code",
   "execution_count": 8,
   "metadata": {
    "collapsed": true
   },
   "outputs": [],
   "source": [
    "import pandas as pd"
   ]
  },
  {
   "cell_type": "code",
   "execution_count": 10,
   "metadata": {},
   "outputs": [
    {
     "data": {
      "text/plain": [
       "0      1\n",
       "1      2\n",
       "2      3\n",
       "3      4\n",
       "4      5\n",
       "5      6\n",
       "6      7\n",
       "7      8\n",
       "8      9\n",
       "9     10\n",
       "10    11\n",
       "11    12\n",
       "dtype: int64"
      ]
     },
     "execution_count": 10,
     "metadata": {},
     "output_type": "execute_result"
    }
   ],
   "source": [
    "months = pd.Series(range(1, 13))\n",
    "months"
   ]
  },
  {
   "cell_type": "markdown",
   "metadata": {},
   "source": [
    "Có nhiều cách tính quantile, loại mặc định trong Pandas là linear, trong khi loại mình hay học và quen thuộc hơn là midpoint."
   ]
  },
  {
   "cell_type": "code",
   "execution_count": 12,
   "metadata": {},
   "outputs": [
    {
     "data": {
      "text/plain": [
       "0.25    3.5\n",
       "0.50    6.5\n",
       "0.75    9.5\n",
       "dtype: float64"
      ]
     },
     "execution_count": 12,
     "metadata": {},
     "output_type": "execute_result"
    }
   ],
   "source": [
    "months.quantile([0.25, 0.5, 0.75], interpolation='midpoint') # tính 25%, 50%, 75% percentile"
   ]
  },
  {
   "cell_type": "code",
   "execution_count": 13,
   "metadata": {},
   "outputs": [
    {
     "data": {
      "text/plain": [
       "0.25    3.75\n",
       "0.50    6.50\n",
       "0.75    9.25\n",
       "dtype: float64"
      ]
     },
     "execution_count": 13,
     "metadata": {},
     "output_type": "execute_result"
    }
   ],
   "source": [
    "months.quantile([0.25, 0.5, 0.75], interpolation='linear')"
   ]
  },
  {
   "cell_type": "markdown",
   "metadata": {},
   "source": [
    "Đầu tiên ta đếm số các điểm dữ liệu `n`, trong trường hợp này là 12. Để tính được `x` percentile, trước hết dùng công thức $ x*(n-1)+1 $ để tìm được index của điểm dữ liệu đầu tiên trong khoảng `x` percentile này. Với 25% percentile, $n=12, x=0.25$, ta sẽ bắt đầu từ \"vị trí\" $0.25*(12-1)+1= 3.75$.\n",
    "\n",
    "Vị trí 3.75 ngụ ý điểm dữ liệu biểu diễn 25% percentile nằm ở giữa vị trí 3 và 4, cũng ứng với giá trị 3 và 4."
   ]
  },
  {
   "cell_type": "markdown",
   "metadata": {},
   "source": [
    "Với cách tính midpoint, ta lấy trung bình cộng của 2 giá trị này, nên 25% percentile sẽ là $\\frac{3+4}{2}=3.5$."
   ]
  },
  {
   "cell_type": "markdown",
   "metadata": {},
   "source": [
    "Với cách tính linear, ta không lấy trung bình cộng, mà lấy giá trị $(3.75 - 3) * (4-3) + 3 = 3.75$. Đại loại là lấy phần lẻ của 3.75, nhân với khoảng cách giữa 2 giá trị 3 và 4, và cộng với 3. Ví dụ các số min_temperature sẽ dễ hiểu hơn."
   ]
  },
  {
   "cell_type": "code",
   "execution_count": 14,
   "metadata": {
    "collapsed": true
   },
   "outputs": [],
   "source": [
    "min_temperature = pd.Series([57, 59, 61, 65, 66, 72, 72, 75, 76, 77, 77, 78])"
   ]
  },
  {
   "cell_type": "code",
   "execution_count": 15,
   "metadata": {},
   "outputs": [
    {
     "data": {
      "text/plain": [
       "0.25    63.0\n",
       "0.50    72.0\n",
       "0.75    76.5\n",
       "dtype: float64"
      ]
     },
     "execution_count": 15,
     "metadata": {},
     "output_type": "execute_result"
    }
   ],
   "source": [
    "min_temperature.quantile([0.25, 0.5, 0.75], interpolation='midpoint')"
   ]
  },
  {
   "cell_type": "code",
   "execution_count": 16,
   "metadata": {},
   "outputs": [
    {
     "data": {
      "text/plain": [
       "0.25    64.00\n",
       "0.50    72.00\n",
       "0.75    76.25\n",
       "dtype: float64"
      ]
     },
     "execution_count": 16,
     "metadata": {},
     "output_type": "execute_result"
    }
   ],
   "source": [
    "min_temperature.quantile([0.25, 0.5, 0.75], interpolation='linear')"
   ]
  },
  {
   "cell_type": "markdown",
   "metadata": {
    "collapsed": true
   },
   "source": [
    "Do số điểm dữ liệu cũng là 12, điểm dữ liệu biểu diễn 25% percentile cũng nằm ở giữa vị trí 3 và 4, lúc này là giá trị 61 và 65.\n",
    "Với cách tính midpoint, 25% percentile là trung bình cộng $\\frac{61+65}{2}=63.0$.\n",
    "Với cách tính linear, 25% percentile là $0.75 * (65-61) + 61 = 64.0$."
   ]
  },
  {
   "cell_type": "code",
   "execution_count": null,
   "metadata": {
    "collapsed": true
   },
   "outputs": [],
   "source": []
  }
 ],
 "metadata": {
  "kernelspec": {
   "display_name": "Python 3",
   "language": "python",
   "name": "python3"
  },
  "language_info": {
   "codemirror_mode": {
    "name": "ipython",
    "version": 3
   },
   "file_extension": ".py",
   "mimetype": "text/x-python",
   "name": "python",
   "nbconvert_exporter": "python",
   "pygments_lexer": "ipython3",
   "version": "3.6.2"
  }
 },
 "nbformat": 4,
 "nbformat_minor": 2
}
