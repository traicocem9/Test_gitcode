{
 "cells": [
  {
   "cell_type": "markdown",
   "metadata": {},
   "source": [
    "## [Python Basic Syntax](https://www.tutorialspoint.com/python/python_basic_syntax.htm)\n",
    "Ngôn ngữ lập trình Python có nhiều điểm tương đồng với Perl, C, và Java. Tuy nhiên, có một số khác biệt rõ rệt trong Python:"
   ]
  },
  {
   "cell_type": "markdown",
   "metadata": {},
   "source": [
    "** Python Identifiers **\n",
    "\n",
    "Một định danh (identifier) trong Python là một tên được sử dụng để nhận diện một biến (variable), một hàm (function), một lớp (class), hoặc một đối tượng (object). Một định danh bắt đầu với một chữ cái từ A tới Z hoặc từ a tới z hoặc một dấu gạch dưới (_) được theo sau bởi 0 hoặc nhiều ký tự, dấu gạch dưới hoặc các chữ số (từ 0 tới 9).\n",
    "\n",
    "Python không hỗ trợ các Punctuation char chẳng hạn như @, $ và % bên trong các định danh. Python là một ngôn ngữ lập trình phân biệt chữ hoa- chữ thường, do đó MaSSP và massp là hai định danh khác nhau trong Python. Dưới đây là một số qui tắc nên được sử dụng trong khi đặt tên các định danh:\n",
    "- Tên lớp (class) thường bắt đầu với một chữ hoa, còn lại thì bắt đầu với chữ thường\n",
    "- Bắt đầu một định danh với một dấu gạch dưới đơn chỉ rằng định danh đó là private.\n",
    "- Bắt đầu một định danh với hai dấu gạch dưới chỉ rằng định danh đó thực sự là private.\n",
    "- Nếu định danh cũng kết thúc với hai dấu gạch dưới, thì định danh này là một tên đặc biệt được định nghĩa bởi ngôn ngữ (ví dụ như __name__ chẳng hạn).\n",
    "\n"
   ]
  },
  {
   "cell_type": "markdown",
   "metadata": {},
   "source": [
    "** Reserved Words **\n",
    "\n",
    "Cũng giống như các ngôn ngữ khác, khi sử dụng định danh trong python cần phải tránh những [Keywords](https://www.programiz.com/python-programming/keyword-list) được định nghĩa sẵn.\n"
   ]
  },
  {
   "cell_type": "markdown",
   "metadata": {},
   "source": [
    "** Lines and Indentation **\n",
    "\n",
    "Python không cung cấp các dấu ngoặc ôm ({}) để chỉ các khối code cho định nghĩa lớp hoặc hàm hoặc điều khiển luồng. Các khối code được nhận biết bởi độ thụt dòng code (indentation) trong Python và đây là điều bắt buộc.\n",
    "\n",
    "Số khoảng trống trong độ thụt dòng là biến đổi, nhưng tất cả các lệnh bên trong khối phải được thụt cùng một số lượng khoảng trống như nhau. Ví dụ:"
   ]
  },
  {
   "cell_type": "code",
   "execution_count": 2,
   "metadata": {},
   "outputs": [
    {
     "name": "stdout",
     "output_type": "stream",
     "text": [
      "Hello World!\n"
     ]
    }
   ],
   "source": [
    "if True:\n",
    "    print(\"Hello World!\")\n",
    "else:\n",
    "    print (\"Hell\")"
   ]
  },
  {
   "cell_type": "markdown",
   "metadata": {},
   "source": [
    "tuy nhiên đoạn code sau sẽ báo lỗi"
   ]
  },
  {
   "cell_type": "code",
   "execution_count": 2,
   "metadata": {},
   "outputs": [
    {
     "ename": "IndentationError",
     "evalue": "unindent does not match any outer indentation level (<ipython-input-2-b9bf12a9aecd>, line 6)",
     "output_type": "error",
     "traceback": [
      "\u001b[0;36m  File \u001b[0;32m\"<ipython-input-2-b9bf12a9aecd>\"\u001b[0;36m, line \u001b[0;32m6\u001b[0m\n\u001b[0;31m    print \"False\"\u001b[0m\n\u001b[0m                 ^\u001b[0m\n\u001b[0;31mIndentationError\u001b[0m\u001b[0;31m:\u001b[0m unindent does not match any outer indentation level\n"
     ]
    }
   ],
   "source": [
    "if True:\n",
    "    print (\"Answer\")\n",
    "    print (\"True\")\n",
    "else:\n",
    "    print (\"Answer\")\n",
    "  print (\"False\")"
   ]
  },
  {
   "cell_type": "markdown",
   "metadata": {},
   "source": [
    "** Multi-Line Statements **\n",
    "\n",
    "Các lệnh trong Python có một nét đặc trưng là kết thúc với một newline (dòng mới). Tuy nhiên, Python cho phép sử dụng ký tự \\ để chỉ rõ sự liên tục dòng. Ví dụ:"
   ]
  },
  {
   "cell_type": "code",
   "execution_count": 1,
   "metadata": {},
   "outputs": [
    {
     "name": "stdout",
     "output_type": "stream",
     "text": [
      "This         is  gonna      be\\        something\n"
     ]
    }
   ],
   "source": [
    "print (\"This \\\n",
    "        is\\\n",
    "  gonna\\\n",
    "      be\\\\\n",
    "        something\")"
   ]
  },
  {
   "cell_type": "markdown",
   "metadata": {},
   "source": [
    "Các lệnh được chứa bên trong các dấu ngoặc [], {}, hoặc () thì không cần sử dụng ký tự \\ .  Ví dụ:"
   ]
  },
  {
   "cell_type": "code",
   "execution_count": 5,
   "metadata": {},
   "outputs": [
    {
     "name": "stdout",
     "output_type": "stream",
     "text": [
      "['Monday', 'Tuesday', 'Wednesday', 'Thursday', 'Friday']\n"
     ]
    }
   ],
   "source": [
    "days = ['Monday', 'Tuesday', 'Wednesday',\n",
    "        'Thursday', 'Friday']\n",
    "print (days)"
   ]
  },
  {
   "cell_type": "markdown",
   "metadata": {},
   "source": [
    "** Quotation in Python **\n",
    "\n",
    "Python chấp nhận trích dẫn đơn ('), kép (\") và trích dẫn tam (''' hoặc \"\"\") để biểu thị các hằng chuỗi, miễn là các trích dẫn này có cùng kiểu mở và đóng."
   ]
  },
  {
   "cell_type": "code",
   "execution_count": 4,
   "metadata": {},
   "outputs": [
    {
     "name": "stdout",
     "output_type": "stream",
     "text": [
      "('word', 'This is a sentence.', 'This is a paragraph. It is\\nmade up of multiple lines and sentences.')\n"
     ]
    }
   ],
   "source": [
    "word = 'word'\n",
    "sentence = \"This is a sentence.\"\n",
    "paragraph = \"\"\"This is a paragraph. It is\n",
    "made up of multiple lines and sentences.\"\"\"\n",
    "print (word, sentence, paragraph)"
   ]
  },
  {
   "cell_type": "markdown",
   "metadata": {},
   "source": [
    "** Multiple Statements on a Single Line **\n",
    "\n",
    "Dấu chấm phảy (;) cho phép xuất hiện nhiều lệnh trên một dòng đơn. Tất cả các lệnh được cung cấp này không bắt đầu một khối code mới. "
   ]
  },
  {
   "cell_type": "code",
   "execution_count": 8,
   "metadata": {},
   "outputs": [
    {
     "name": "stdout",
     "output_type": "stream",
     "text": [
      "Hello\n",
      "World\n"
     ]
    }
   ],
   "source": [
    "print (\"Hello\");print(\"World\")"
   ]
  },
  {
   "cell_type": "markdown",
   "metadata": {},
   "source": [
    "## [Variable Types](https://www.tutorialspoint.com/python/python_variable_types.htm)\n",
    "\n"
   ]
  },
  {
   "cell_type": "markdown",
   "metadata": {},
   "source": [
    "** Assigning Values to Variables **\n",
    "\n",
    "Trong Python, chúng ta không cần khai báo biến một cách tường minh. Khi bạn gán bất cứ giá trị nào cho biến thì biến đó được khai báo một cách tự động. Phép gán được thực hiện bởi toán tử =."
   ]
  },
  {
   "cell_type": "code",
   "execution_count": 8,
   "metadata": {},
   "outputs": [
    {
     "name": "stdout",
     "output_type": "stream",
     "text": [
      "100\n",
      "1000.0\n",
      "John\n",
      "New counter:  [1, 2, 3]\n",
      "New counter:  [1, 2, 3, 4]\n"
     ]
    }
   ],
   "source": [
    "counter = 100          # An integer assignment\n",
    "miles   = 1000.0       # A floating point\n",
    "name    = \"John\"       # A string\n",
    "l = [1,2,3]\n",
    "print (counter)\n",
    "print (miles)\n",
    "print (name)\n",
    "counter = l\n",
    "print (\"New counter: \", counter)\n",
    "l.append(4)\n",
    "print (\"New counter: \", counter)"
   ]
  },
  {
   "cell_type": "markdown",
   "metadata": {},
   "source": [
    "** Multiple Assignment ** "
   ]
  },
  {
   "cell_type": "code",
   "execution_count": 10,
   "metadata": {},
   "outputs": [
    {
     "name": "stdout",
     "output_type": "stream",
     "text": [
      "1 1 1\n"
     ]
    }
   ],
   "source": [
    "a = b = c = 1\n",
    "print (a, b, c)"
   ]
  },
  {
   "cell_type": "markdown",
   "metadata": {},
   "source": [
    "** Standard Data Types **\n",
    "\n",
    "Numbers\n",
    "\n",
    "String\n",
    "\n",
    "List\n",
    "\n",
    "Tuple\n",
    "\n",
    "Dictionary"
   ]
  },
  {
   "cell_type": "markdown",
   "metadata": {},
   "source": [
    "## [Python Basic Operation](https://www.tutorialspoint.com/python/python_basic_operators.htm)\n",
    "\n",
    "Về cơ bản thì giống C++ hoặc Java, ngoại trừ một số toán tử đặc biệt:\n",
    "\n"
   ]
  },
  {
   "cell_type": "code",
   "execution_count": 11,
   "metadata": {},
   "outputs": [
    {
     "name": "stdout",
     "output_type": "stream",
     "text": [
      "100\n"
     ]
    }
   ],
   "source": [
    "print (10**2)"
   ]
  },
  {
   "cell_type": "code",
   "execution_count": 16,
   "metadata": {},
   "outputs": [
    {
     "name": "stdout",
     "output_type": "stream",
     "text": [
      "3.33333333333\n"
     ]
    }
   ],
   "source": [
    "print (10.0/3.0)"
   ]
  },
  {
   "cell_type": "code",
   "execution_count": 9,
   "metadata": {},
   "outputs": [
    {
     "name": "stdout",
     "output_type": "stream",
     "text": [
      "3.0\n",
      "-4.0\n"
     ]
    }
   ],
   "source": [
    "print (10.0//3.0)\n",
    "print (10.0//(-3.0))"
   ]
  },
  {
   "cell_type": "code",
   "execution_count": 4,
   "metadata": {},
   "outputs": [
    {
     "ename": "SyntaxError",
     "evalue": "invalid syntax (<ipython-input-4-4ef2792d09ba>, line 1)",
     "output_type": "error",
     "traceback": [
      "\u001b[0;36m  File \u001b[0;32m\"<ipython-input-4-4ef2792d09ba>\"\u001b[0;36m, line \u001b[0;32m1\u001b[0m\n\u001b[0;31m    print (1&&0)\u001b[0m\n\u001b[0m             ^\u001b[0m\n\u001b[0;31mSyntaxError\u001b[0m\u001b[0;31m:\u001b[0m invalid syntax\n"
     ]
    }
   ],
   "source": [
    "print (1&&0)"
   ]
  },
  {
   "cell_type": "code",
   "execution_count": 18,
   "metadata": {},
   "outputs": [
    {
     "name": "stdout",
     "output_type": "stream",
     "text": [
      "0\n"
     ]
    }
   ],
   "source": [
    "print (1 and 0)"
   ]
  },
  {
   "cell_type": "code",
   "execution_count": 5,
   "metadata": {},
   "outputs": [
    {
     "ename": "SyntaxError",
     "evalue": "invalid syntax (<ipython-input-5-2c08d50b5141>, line 1)",
     "output_type": "error",
     "traceback": [
      "\u001b[0;36m  File \u001b[0;32m\"<ipython-input-5-2c08d50b5141>\"\u001b[0;36m, line \u001b[0;32m1\u001b[0m\n\u001b[0;31m    print (1 || 0)\u001b[0m\n\u001b[0m              ^\u001b[0m\n\u001b[0;31mSyntaxError\u001b[0m\u001b[0;31m:\u001b[0m invalid syntax\n"
     ]
    }
   ],
   "source": [
    "print (1 || 0)"
   ]
  },
  {
   "cell_type": "code",
   "execution_count": 20,
   "metadata": {},
   "outputs": [
    {
     "name": "stdout",
     "output_type": "stream",
     "text": [
      "1\n"
     ]
    }
   ],
   "source": [
    "print (1 or 0)"
   ]
  },
  {
   "cell_type": "code",
   "execution_count": 21,
   "metadata": {},
   "outputs": [
    {
     "ename": "SyntaxError",
     "evalue": "invalid syntax (<ipython-input-21-ebb113e83abb>, line 1)",
     "output_type": "error",
     "traceback": [
      "\u001b[0;36m  File \u001b[0;32m\"<ipython-input-21-ebb113e83abb>\"\u001b[0;36m, line \u001b[0;32m1\u001b[0m\n\u001b[0;31m    print !1\u001b[0m\n\u001b[0m          ^\u001b[0m\n\u001b[0;31mSyntaxError\u001b[0m\u001b[0;31m:\u001b[0m invalid syntax\n"
     ]
    }
   ],
   "source": [
    "print (!1)"
   ]
  },
  {
   "cell_type": "code",
   "execution_count": 22,
   "metadata": {},
   "outputs": [
    {
     "name": "stdout",
     "output_type": "stream",
     "text": [
      "False\n"
     ]
    }
   ],
   "source": [
    "print (not 1)"
   ]
  },
  {
   "cell_type": "code",
   "execution_count": 24,
   "metadata": {},
   "outputs": [
    {
     "name": "stdout",
     "output_type": "stream",
     "text": [
      "True\n",
      "True\n"
     ]
    }
   ],
   "source": [
    "a = [1, 2, 3]\n",
    "print (1 in a)\n",
    "print (4 not in a)"
   ]
  },
  {
   "cell_type": "code",
   "execution_count": 10,
   "metadata": {},
   "outputs": [
    {
     "name": "stdout",
     "output_type": "stream",
     "text": [
      "True\n",
      "False\n",
      "False\n",
      "26063256 26063256 26063232\n"
     ]
    }
   ],
   "source": [
    "a = 1\n",
    "b = 1\n",
    "c = 2\n",
    "print (a is b)\n",
    "print (a is not b)\n",
    "print (a is c)\n",
    "print (id(a), id(b), id(c))"
   ]
  },
  {
   "cell_type": "code",
   "execution_count": 14,
   "metadata": {},
   "outputs": [
    {
     "name": "stdout",
     "output_type": "stream",
     "text": [
      "False\n",
      "139752941215544 139752941301200\n",
      "True\n"
     ]
    }
   ],
   "source": [
    "l = [1,2,3]\n",
    "n = [1,2,3]\n",
    "print (l is n) #check reference\n",
    "print (id(l), id(n))\n",
    "print (l == n) #check value"
   ]
  },
  {
   "cell_type": "code",
   "execution_count": 13,
   "metadata": {},
   "outputs": [
    {
     "name": "stdout",
     "output_type": "stream",
     "text": [
      "139752941123624 139752941123624\n"
     ]
    }
   ],
   "source": [
    "name = \"son\"\n",
    "newname = \"son\"\n",
    "print (id(name), id(newname))"
   ]
  },
  {
   "cell_type": "markdown",
   "metadata": {},
   "source": [
    "## [Decision Making](https://www.tutorialspoint.com/python/python_decision_making.htm)\n",
    "\n",
    "Ngôn ngữ lập trình Python coi các giá trị khác null và khác 0 là true, và coi các giá trị là null hoặc 0 là false."
   ]
  },
  {
   "cell_type": "code",
   "execution_count": 27,
   "metadata": {},
   "outputs": [
    {
     "name": "stdout",
     "output_type": "stream",
     "text": [
      "1 - Got a true expression value\n",
      "100\n",
      "2 - Got a false expression value\n",
      "0\n",
      "Good bye!\n"
     ]
    }
   ],
   "source": [
    "# if expression:\n",
    "#    statement(s)\n",
    "var1 = 100\n",
    "if var1:\n",
    "   print (\"1 - Got a true expression value\")\n",
    "   print (var1)\n",
    "else:\n",
    "   print (\"1 - Got a false expression value\")\n",
    "   print (var1)\n",
    "\n",
    "var2 = 0\n",
    "if var2:\n",
    "   print (\"2 - Got a true expression value\")\n",
    "   print (var2)\n",
    "else:\n",
    "   print (\"2 - Got a false expression value\")\n",
    "   print (var2)\n",
    "\n",
    "print (\"Good bye!\")"
   ]
  },
  {
   "cell_type": "markdown",
   "metadata": {},
   "source": [
    "**The elif Statement**"
   ]
  },
  {
   "cell_type": "code",
   "execution_count": 29,
   "metadata": {},
   "outputs": [
    {
     "name": "stdout",
     "output_type": "stream",
     "text": [
      "3 - Got a true expression value\n",
      "100\n",
      "Good bye!\n"
     ]
    }
   ],
   "source": [
    "# if expression1:\n",
    "#    statement(s)\n",
    "# elif expression2:\n",
    "#    statement(s)\n",
    "# elif expression3:\n",
    "#    statement(s)\n",
    "# else:\n",
    "#    statement(s)\n",
    "var = 100\n",
    "if var == 200:\n",
    "   print (\"1 - Got a true expression value\")\n",
    "   print (var)\n",
    "elif var == 150:\n",
    "   print (\"2 - Got a true expression value\")\n",
    "   print (var)\n",
    "elif var == 100:\n",
    "   print (\"3 - Got a true expression value\")\n",
    "   print (var)\n",
    "else:\n",
    "   print (\"4 - Got a false expression value\")\n",
    "   print (var)\n",
    "\n",
    "print (\"Good bye!\")"
   ]
  },
  {
   "cell_type": "markdown",
   "metadata": {},
   "source": [
    "**Python nested IF statements**"
   ]
  },
  {
   "cell_type": "code",
   "execution_count": 30,
   "metadata": {
    "collapsed": true
   },
   "outputs": [],
   "source": [
    "# if expression1:\n",
    "#    statement(s)\n",
    "#    if expression2:\n",
    "#       statement(s)\n",
    "#    elif expression3:\n",
    "#       statement(s)\n",
    "#    else:\n",
    "#       statement(s)\n",
    "# elif expression4:\n",
    "#    statement(s)\n",
    "# else:\n",
    "#    statement(s)"
   ]
  },
  {
   "cell_type": "markdown",
   "metadata": {},
   "source": [
    "## [Loops](https://www.tutorialspoint.com/python/python_loops.htm)"
   ]
  },
  {
   "cell_type": "markdown",
   "metadata": {},
   "source": [
    "** For loop **"
   ]
  },
  {
   "cell_type": "code",
   "execution_count": null,
   "metadata": {
    "collapsed": true
   },
   "outputs": [],
   "source": [
    "# for iterating_var in sequence:\n",
    "#    statements(s)\n",
    "for letter in \"MaSSP\":\n",
    "    print(letter)\n",
    "for i in range(1,1000000000,1):    \n",
    "    print(i)\n",
    "    if (i==3):\n",
    "        break"
   ]
  },
  {
   "cell_type": "markdown",
   "metadata": {},
   "source": [
    "** While loop **"
   ]
  },
  {
   "cell_type": "code",
   "execution_count": 28,
   "metadata": {},
   "outputs": [
    {
     "name": "stdout",
     "output_type": "stream",
     "text": [
      "The count is: 0\n",
      "The count is: 1\n",
      "The count is: 2\n",
      "The count is: 3\n",
      "The count is: 4\n",
      "The count is: 5\n",
      "The count is: 6\n",
      "The count is: 7\n",
      "The count is: 8\n",
      "Good bye!\n"
     ]
    }
   ],
   "source": [
    "# while expression:\n",
    "#    statement(s)\n",
    "count = 0\n",
    "while (count < 9):\n",
    "   print ('The count is:', count)\n",
    "#    count = count + 1\n",
    "   count+=1\n",
    "\n",
    "print (\"Good bye!\")"
   ]
  },
  {
   "cell_type": "markdown",
   "metadata": {},
   "source": [
    "## [Python Numbers](https://www.tutorialspoint.com/python/python_numbers.htm)\n",
    "\n",
    "Python hỗ trợ 4 kiểu số cơ bản:\n",
    "\n",
    "- Kiểu int: kiểu số nguyên không có dấu thập phân.\n",
    "- Kiểu long: là các số nguyên không giới hạn kích cỡ, được theo sau bởi một chữ l hoặc chữ L.\n",
    "- Kiểu float: số thực với dấu thập phân. Kiểu này cũng có thể được viết ở dạng số mũ của 10 với E hoặc e như (2.5e2 = 2.5 x 102 = 250).\n",
    "- Kiểu số phức: là trong dạng a + bJ, với a và b là số thực và J (hoặc j) biểu diễn căn bậc hai của -1. Phần thực là a và phần ảo là b. Nói chung, số phức không được sử dụng nhiều trong lập trình Python."
   ]
  },
  {
   "cell_type": "markdown",
   "metadata": {},
   "source": [
    "** Number Type Conversion **\n",
    "\n",
    "Để chuyển đổi số x thành số thuần nguyên: int(x).\n",
    "\n",
    "Để chuyển đổi số x thành số long: long(x).\n",
    "\n",
    "Để chuyển đổi số x thành số thực: float(x).\n",
    "\n",
    "Để chuyển đổi số x thành số phức với phần thực là x và phần ảo là 0: complex(x).\n",
    "\n",
    "Để chuyển đổi số x và y thành số phức với phần thực là x và phần ảo là y: complex(x, y)."
   ]
  },
  {
   "cell_type": "markdown",
   "metadata": {},
   "source": [
    "** Mathematical Functions **\n",
    "\n",
    "Python hỗ trợ nhiều hàm toán [hàm toán học](https://www.tutorialspoint.com/python/python_numbers.htm) như pow, sqrt, abs, log, round, ... \n"
   ]
  },
  {
   "cell_type": "markdown",
   "metadata": {},
   "source": [
    "## [Python String](https://www.tutorialspoint.com/python/python_strings.htm)\n",
    "\n",
    "String là một trong các kiểu phổ biến nhất trong Python. String trong Python là immutable. \n"
   ]
  },
  {
   "cell_type": "markdown",
   "metadata": {},
   "source": [
    "** Accessing Values in Strings **\n"
   ]
  },
  {
   "cell_type": "code",
   "execution_count": 5,
   "metadata": {},
   "outputs": [
    {
     "name": "stdout",
     "output_type": "stream",
     "text": [
      "M\n",
      "SP is fu\n",
      "\n",
      "MaSSP\n",
      "SP is fun\n",
      "MaSSP is fun\n",
      "M a S S P   i s   f u n\n"
     ]
    }
   ],
   "source": [
    "title = \"MaSSP is fun\"\n",
    "print (title[0])\n",
    "print (title[3:-1])\n",
    "print (title[3:-0])\n",
    "print (title[:5])\n",
    "print (title[3:])\n",
    "print (title[:])\n",
    "for i in range(len(title)):\n",
    "    print (title[i])"
   ]
  },
  {
   "cell_type": "markdown",
   "metadata": {},
   "source": [
    "** String Formatting Operator **\n",
    "\n",
    "Một trong những đặc điểm hay nhất trong Python là toán tử định dạng chuỗi %. Toán tử này là duy nhất cho các String và được sử dụng với hàm print(). Ví dụ:"
   ]
  },
  {
   "cell_type": "code",
   "execution_count": 6,
   "metadata": {},
   "outputs": [
    {
     "name": "stdout",
     "output_type": "stream",
     "text": [
      "My name is Long and weight is 52 kg!\n"
     ]
    }
   ],
   "source": [
    "print(\"My name is %s and weight is %d kg!\" % ('Long', 52) )\n",
    "# %c\tcharacter\n",
    "# %s\tstring conversion via str() prior to formatting\n",
    "# %i\tsigned decimal integer\n",
    "# %d\tsigned decimal integer\n",
    "# %u\tunsigned decimal integer\n",
    "# %o\toctal integer\n",
    "# %x\thexadecimal integer (lowercase letters)\n",
    "# %X\thexadecimal integer (UPPERcase letters)\n",
    "# %e\texponential notation (with lowercase 'e')\n",
    "# %E\texponential notation (with UPPERcase 'E')\n",
    "# %f\tfloating point real number\n",
    "# %g\tthe shorter of %f and %e\n",
    "# %G\tthe shorter of %f and %E"
   ]
  },
  {
   "cell_type": "markdown",
   "metadata": {},
   "source": [
    "Python còn hỗ trợ những toán tử cơ bản với string như:\n"
   ]
  },
  {
   "cell_type": "code",
   "execution_count": 53,
   "metadata": {},
   "outputs": [
    {
     "name": "stdout",
     "output_type": "stream",
     "text": [
      "hahaha huhuhu\n",
      "True\n",
      "False\n"
     ]
    }
   ],
   "source": [
    "laugh = \"ha\"\n",
    "cry  = \"hu\"\n",
    "fullLaugh = \"hahaha\"\n",
    "print(laugh*3 + \" \" + cry*3)\n",
    "print(laugh in fullLaugh)\n",
    "print(cry in fullLaugh)\n"
   ]
  },
  {
   "cell_type": "code",
   "execution_count": 51,
   "metadata": {},
   "outputs": [
    {
     "ename": "TypeError",
     "evalue": "cannot concatenate 'str' and 'int' objects",
     "output_type": "error",
     "traceback": [
      "\u001b[0;31m---------------------------------------------------------------------------\u001b[0m\n\u001b[0;31mTypeError\u001b[0m                                 Traceback (most recent call last)",
      "\u001b[0;32m<ipython-input-51-42933d78f948>\u001b[0m in \u001b[0;36m<module>\u001b[0;34m()\u001b[0m\n\u001b[1;32m      1\u001b[0m \u001b[0mname\u001b[0m \u001b[0;34m=\u001b[0m \u001b[0;34m\"dat\"\u001b[0m\u001b[0;34m\u001b[0m\u001b[0m\n\u001b[0;32m----> 2\u001b[0;31m \u001b[0;32mprint\u001b[0m\u001b[0;34m(\u001b[0m\u001b[0mname\u001b[0m \u001b[0;34m+\u001b[0m \u001b[0;36m69\u001b[0m\u001b[0;34m)\u001b[0m\u001b[0;34m\u001b[0m\u001b[0m\n\u001b[0m",
      "\u001b[0;31mTypeError\u001b[0m: cannot concatenate 'str' and 'int' objects"
     ]
    }
   ],
   "source": [
    "name = \"dat\"\n",
    "print(name + 69)"
   ]
  },
  {
   "cell_type": "markdown",
   "metadata": {},
   "source": [
    "**Built-in String Methods**\n",
    "\n",
    "Sau đây là một số method cơ bản hay dùng:\n",
    "- isdecimal() Returns true if a unicode string contains only decimal characters and false otherwise.\n",
    "\n",
    "- isalnum() Returns true if string has at least 1 character and all characters are alphanumeric and false otherwise.\n",
    "\n",
    "- isalpha() Returns true if string has at least 1 character and all characters are alphabetic and false otherwise.\n",
    "\t\n",
    "- isdigit() Returns true if string contains only digits and false otherwise.\n",
    "\t\n",
    "- islower() Returns true if string has at least 1 cased character and all cased characters are in lowercase and false otherwise.\n",
    "\t\n",
    "- isnumeric() Returns true if a unicode string contains only numeric characters and false otherwise.\n",
    "\n",
    "- isupper() Returns true if string has at least one cased character and all cased characters are in uppercase and false otherwise.\n",
    "\n",
    "- join(seq) Merges (concatenates) the string representations of elements in sequence seq into a string, with separator string.\n",
    "- find(str, beg=0 end=len(string)) Determine if str occurs in string or in a substring of string if starting index beg and ending index end are given returns index if found and -1 otherwise.\n",
    "\n",
    "- len(string) Returns the length of the string\n",
    "\n",
    "- lower() Converts all uppercase letters in string to lowercase.\n",
    "\n",
    "- upper() Converts lowercase letters in string to uppercase.\n",
    "- swapcase() Inverts case for all letters in string.\n",
    "- split(str=\"\", num=string.count(str)) Splits string according to delimiter str (space if not provided) and returns list of substrings; split into at most num substrings if given."
   ]
  },
  {
   "cell_type": "code",
   "execution_count": 8,
   "metadata": {},
   "outputs": [
    {
     "name": "stdout",
     "output_type": "stream",
     "text": [
      "L|o|n|g\n",
      "['L', 'o', 'n', 'g']\n"
     ]
    }
   ],
   "source": [
    "name = \"Long\"\n",
    "newName = \"|\".join(name)\n",
    "print(newName)\n",
    "print(newName.split('|'))"
   ]
  },
  {
   "cell_type": "markdown",
   "metadata": {
    "collapsed": true
   },
   "source": [
    "## [List](https://www.tutorialspoint.com/python/python_lists.htm)\n",
    "\n",
    "- giống như array trong c++\n",
    "- các phần tử không nhất thiết phải cùng loại\n",
    "- list đánh số từ 0"
   ]
  },
  {
   "cell_type": "code",
   "execution_count": 1,
   "metadata": {
    "collapsed": true
   },
   "outputs": [],
   "source": [
    "list1 = ['physics', 'chemistry', 1997, 2000]\n",
    "list2 = [0, 1, 2, 3, 4]\n",
    "list3 = [\"a\", \"b\", \"c\", \"d\"]"
   ]
  },
  {
   "cell_type": "markdown",
   "metadata": {},
   "source": [
    "** Truy cập: **\n"
   ]
  },
  {
   "cell_type": "code",
   "execution_count": 2,
   "metadata": {},
   "outputs": [
    {
     "name": "stdout",
     "output_type": "stream",
     "text": [
      "2000\n",
      "[1, 2, 3]\n",
      "[1, 2, 3]\n"
     ]
    }
   ],
   "source": [
    "print(list1[-1])\n",
    "print(list2[1:4])\n",
    "print(list2[1:-1])"
   ]
  },
  {
   "cell_type": "markdown",
   "metadata": {},
   "source": [
    "** Thêm và xóa phần tử **"
   ]
  },
  {
   "cell_type": "code",
   "execution_count": 3,
   "metadata": {
    "scrolled": true
   },
   "outputs": [
    {
     "name": "stdout",
     "output_type": "stream",
     "text": [
      "['physics', 'chemistry', 1997, 'computer science', 1997]\n"
     ]
    }
   ],
   "source": [
    "list1[3] = 'computer science'\n",
    "list1.append(1997) #thêm 1997 vào cuối list\n",
    "print(list1)"
   ]
  },
  {
   "cell_type": "code",
   "execution_count": 4,
   "metadata": {},
   "outputs": [
    {
     "name": "stdout",
     "output_type": "stream",
     "text": [
      "['chemistry', 'computer science', 1997]\n"
     ]
    }
   ],
   "source": [
    "del list1[0]\n",
    "list1.remove(1997) #remove object 1997 đầu tiên\n",
    "print(list1)"
   ]
  },
  {
   "cell_type": "markdown",
   "metadata": {},
   "source": [
    "** Các thao tác cơ bản khác: **\n"
   ]
  },
  {
   "cell_type": "code",
   "execution_count": 5,
   "metadata": {
    "scrolled": true
   },
   "outputs": [
    {
     "name": "stdout",
     "output_type": "stream",
     "text": [
      "3\n",
      "[1, 2, 3, 4, 5, 6]\n",
      "['Hi!', 'Hi!', 'Hi!', 'Hi!']\n",
      "True\n",
      "1\n",
      "2\n",
      "3\n"
     ]
    }
   ],
   "source": [
    "print(len([1, 2, 3]))\n",
    "print([1, 2, 3] + [4, 5, 6])\n",
    "print(['Hi!'] * 4)\n",
    "print(3 in [1, 2, 3])\n",
    "for x in [1, 2, 3]: print(x)"
   ]
  },
  {
   "cell_type": "markdown",
   "metadata": {},
   "source": [
    "** Comprehension for loop**\n",
    "\n",
    "Có thể nhét for loop vào thân của một câu lệnh để sử dụng\n"
   ]
  },
  {
   "cell_type": "code",
   "execution_count": 11,
   "metadata": {},
   "outputs": [
    {
     "name": "stdout",
     "output_type": "stream",
     "text": [
      "[0, 1, 2, 3, 4]\n",
      "[(0, 0), (0, 1), (0, 2), (0, 3), (1, 0), (1, 1), (1, 2), (1, 3), (2, 0), (2, 1), (2, 2), (2, 3)]\n",
      "[0]\n"
     ]
    }
   ],
   "source": [
    "print ([x for x in range(5)])\n",
    "print ([ (x, y) for x in range(3) for y in range(4)])\n",
    "print ([x+y for x in range(5) if x%3 ==0 for y in range(3) if (x + y) % 2 == 0 if (x==y)])"
   ]
  },
  {
   "cell_type": "markdown",
   "metadata": {},
   "source": [
    "---\n",
    "## [Tuples](https://www.tutorialspoint.com/python/python_tuples.htm)\n",
    "\n",
    "- giống hệt với list, chỉ khác ở chỗ các phần tử là bất biến do đó không có thao tác thêm và xóa phần tử\n",
    "- syntax khác với list là tuple dùng ngoặc () thay vì ngoặc [] hoặc không có ngoặc (xem ví dụ để hiểu rõ hơn)\n",
    "- khi tuple chỉ có 1 phần tử thì phải có dấu phẩy (xem ví dụ để rõ hơn)"
   ]
  },
  {
   "cell_type": "code",
   "execution_count": 6,
   "metadata": {
    "collapsed": true
   },
   "outputs": [],
   "source": [
    "tup1 = ('physics', 'chemistry', 1997, 2000)\n",
    "tup2 = (1, 2, 3, 4, 5 )\n",
    "tup3 = \"a\", \"b\", \"c\", \"d\"\n",
    "tup4 = (1,)"
   ]
  },
  {
   "cell_type": "markdown",
   "metadata": {},
   "source": [
    "**Truy cập:** giống hệt list"
   ]
  },
  {
   "cell_type": "code",
   "execution_count": 7,
   "metadata": {
    "scrolled": true
   },
   "outputs": [
    {
     "name": "stdout",
     "output_type": "stream",
     "text": [
      "Summer!\n",
      "2017\n",
      "('2017', 'Summer!')\n"
     ]
    }
   ],
   "source": [
    "L = ('MASSP', '2017', 'Summer!')\n",
    "print(L[2])\n",
    "print(L[-2])\n",
    "print(L[1:])"
   ]
  },
  {
   "cell_type": "markdown",
   "metadata": {},
   "source": [
    "** Các thao tác cơ bản khác: **\n"
   ]
  },
  {
   "cell_type": "code",
   "execution_count": 8,
   "metadata": {},
   "outputs": [
    {
     "name": "stdout",
     "output_type": "stream",
     "text": [
      "3\n",
      "(1, 2, 3, 4, 5, 6)\n",
      "('Hi!', 'Hi!', 'Hi!', 'Hi!')\n",
      "True\n",
      "1\n",
      "2\n",
      "3\n"
     ]
    }
   ],
   "source": [
    "print(len((1, 2, 3)))\n",
    "print((1, 2, 3) + (4, 5, 6))\n",
    "print(('Hi!',) * 4)\n",
    "print(3 in (1, 2, 3))\n",
    "for x in (1, 2, 3): \n",
    "    print(x)"
   ]
  },
  {
   "cell_type": "markdown",
   "metadata": {},
   "source": [
    "---\n",
    "## [Dictionary](https://www.tutorialspoint.com/python/python_dictionary.htm)\n",
    "- giống với map của c++ với syntax là {key: value, ...}\n",
    "- key không đc phép trùng, các key trong 1 dictionary phải cùng loại (strings, numbers, tuples, ...) "
   ]
  },
  {
   "cell_type": "code",
   "execution_count": 9,
   "metadata": {
    "collapsed": true
   },
   "outputs": [],
   "source": [
    "dict = {'Name': 'Zara', 'Age': 7, 'Class': 'First'}"
   ]
  },
  {
   "cell_type": "markdown",
   "metadata": {},
   "source": [
    "** Truy cập: **\n"
   ]
  },
  {
   "cell_type": "code",
   "execution_count": 10,
   "metadata": {},
   "outputs": [
    {
     "name": "stdout",
     "output_type": "stream",
     "text": [
      "dict['Name']:  Zara\n",
      "dict['Age']:  7\n"
     ]
    }
   ],
   "source": [
    "print (\"dict['Name']: \", dict['Name'])\n",
    "print (\"dict['Age']: \", dict['Age'])"
   ]
  },
  {
   "cell_type": "markdown",
   "metadata": {},
   "source": [
    "Nếu key không tồn tại thì python sẽ hiện traceback lỗi (KeyError)"
   ]
  },
  {
   "cell_type": "code",
   "execution_count": 11,
   "metadata": {},
   "outputs": [
    {
     "ename": "KeyError",
     "evalue": "'Alice'",
     "output_type": "error",
     "traceback": [
      "\u001b[0;31m---------------------------------------------------------------------------\u001b[0m",
      "\u001b[0;31mKeyError\u001b[0m                                  Traceback (most recent call last)",
      "\u001b[0;32m<ipython-input-11-004567b210e2>\u001b[0m in \u001b[0;36m<module>\u001b[0;34m()\u001b[0m\n\u001b[0;32m----> 1\u001b[0;31m \u001b[0mprint\u001b[0m \u001b[0;34m(\u001b[0m\u001b[0;34m\"dict['Alice']: \"\u001b[0m\u001b[0;34m,\u001b[0m \u001b[0mdict\u001b[0m\u001b[0;34m[\u001b[0m\u001b[0;34m'Alice'\u001b[0m\u001b[0;34m]\u001b[0m\u001b[0;34m)\u001b[0m\u001b[0;34m\u001b[0m\u001b[0m\n\u001b[0m",
      "\u001b[0;31mKeyError\u001b[0m: 'Alice'"
     ]
    }
   ],
   "source": [
    "print (\"dict['Alice']: \", dict['Alice'])"
   ]
  },
  {
   "cell_type": "markdown",
   "metadata": {},
   "source": [
    "**Thêm và xóa key, value:**"
   ]
  },
  {
   "cell_type": "code",
   "execution_count": 12,
   "metadata": {},
   "outputs": [
    {
     "name": "stdout",
     "output_type": "stream",
     "text": [
      "dict['Age']:  8\n",
      "dict['School']:  DPS School\n"
     ]
    }
   ],
   "source": [
    "dict['Age'] = 8; # cập nhập key có sẵn\n",
    "dict['School'] = \"DPS School\"; # Thêm key mới\n",
    "\n",
    "print (\"dict['Age']: \", dict['Age'])\n",
    "print (\"dict['School']: \", dict['School'])"
   ]
  },
  {
   "cell_type": "code",
   "execution_count": 13,
   "metadata": {},
   "outputs": [
    {
     "name": "stdout",
     "output_type": "stream",
     "text": [
      "{'Age': 8, 'Class': 'First', 'School': 'DPS School'}\n",
      "{}\n",
      "<class 'dict'>\n"
     ]
    }
   ],
   "source": [
    "del dict['Name'] # xóa key 'Name'\n",
    "print (dict)\n",
    "dict.clear()     # xóa tất cả các key\n",
    "print (dict)\n",
    "del dict         # xóa dict\n",
    "print (dict)"
   ]
  },
  {
   "cell_type": "markdown",
   "metadata": {},
   "source": [
    "Trong trường hợp trùng key, thì value của key sẽ là value cuối cùng được gán cho key đó"
   ]
  },
  {
   "cell_type": "code",
   "execution_count": 14,
   "metadata": {},
   "outputs": [
    {
     "name": "stdout",
     "output_type": "stream",
     "text": [
      "dict['Name']:  Manni\n"
     ]
    }
   ],
   "source": [
    "dict = {'Name': 'Zara', 'Age': 7, 'Name': 'Manni'}\n",
    "\n",
    "print (\"dict['Name']: \", dict['Name'])"
   ]
  },
  {
   "cell_type": "markdown",
   "metadata": {},
   "source": [
    "---\n",
    "## [Function](https://www.tutorialspoint.com/python/python_functions.htm)\n"
   ]
  },
  {
   "cell_type": "markdown",
   "metadata": {},
   "source": [
    "**Syntax:**"
   ]
  },
  {
   "cell_type": "code",
   "execution_count": 15,
   "metadata": {
    "collapsed": true
   },
   "outputs": [],
   "source": [
    "def functionname( parameters ):\n",
    "    \"function_docstring\"\n",
    "    function_suite\n",
    "    return [expression]"
   ]
  },
  {
   "cell_type": "markdown",
   "metadata": {},
   "source": [
    "- Tham số được truyền vào dạng tham chiếu (reference) nên mọi tác động lên biến trong function sẽ ảnh hướng đến đối tượng được tham chiếu\n",
    "- Biến trong hàm là local, ngoài hàm global"
   ]
  },
  {
   "cell_type": "code",
   "execution_count": 16,
   "metadata": {},
   "outputs": [
    {
     "name": "stdout",
     "output_type": "stream",
     "text": [
      "Inside the function local total :  30\n",
      "Outside the function global total :  0\n"
     ]
    }
   ],
   "source": [
    "total = 0; # Biến toàn cục\n",
    "def sum( arg1, arg2 ):\n",
    "    # Add both the parameters and return them.\"\n",
    "    total = arg1 + arg2; # Biến cục bộ\n",
    "    print (\"Inside the function local total : \", total)\n",
    "    return total;\n",
    "\n",
    "sum( 10, 20 );\n",
    "print (\"Outside the function global total : \", total) "
   ]
  },
  {
   "cell_type": "code",
   "execution_count": 17,
   "metadata": {},
   "outputs": [
    {
     "name": "stdout",
     "output_type": "stream",
     "text": [
      "Values inside the function:  [10, 20, 30, [1, 2, 3, 4]]\n",
      "Values outside the function:  [10, 20, 30, [1, 2, 3, 4]]\n"
     ]
    }
   ],
   "source": [
    "def changeme( mylist ):\n",
    "    \"This changes a passed list into this function\"\n",
    "    mylist.append([1,2,3,4]);\n",
    "    print (\"Values inside the function: \", mylist)\n",
    "    return\n",
    "\n",
    "mylist = [10,20,30];\n",
    "changeme( mylist );\n",
    "print (\"Values outside the function: \", mylist)"
   ]
  },
  {
   "cell_type": "code",
   "execution_count": 18,
   "metadata": {},
   "outputs": [
    {
     "name": "stdout",
     "output_type": "stream",
     "text": [
      "Values inside the function:  [1, 2, 3, 4]\n",
      "Values outside the function:  [10, 20, 30]\n"
     ]
    }
   ],
   "source": [
    "def changeme( mylist ):\n",
    "    \"This changes a passed list into this function\"\n",
    "    mylist = [1,2,3,4]; # Tham chiếu mylist sang đối tượng mới [1,2,3,4]\n",
    "    print (\"Values inside the function: \", mylist)\n",
    "    return\n",
    "\n",
    "mylist = [10,20,30];\n",
    "changeme( mylist );\n",
    "print (\"Values outside the function: \", mylist)"
   ]
  },
  {
   "cell_type": "markdown",
   "metadata": {},
   "source": [
    "Để có thể gán ```mylist = [1,2,3,4]``` \n",
    "cho ```mylist``` ở ngoài function cần khai báo ```global``` và sửa như sau"
   ]
  },
  {
   "cell_type": "code",
   "execution_count": 19,
   "metadata": {},
   "outputs": [
    {
     "name": "stdout",
     "output_type": "stream",
     "text": [
      "Values inside the function:  [1, 2, 3, 4]\n",
      "Values outside the function:  [1, 2, 3, 4]\n"
     ]
    }
   ],
   "source": [
    "def changeme():\n",
    "    \"This changes a passed list into this function\"\n",
    "    global mylist \n",
    "    mylist = [1,2,3,4]; # Gán mylist bằng [1,2,3,4]\n",
    "    print (\"Values inside the function: \", mylist)\n",
    "    return\n",
    "\n",
    "mylist = [10,20,30];\n",
    "changeme();\n",
    "print (\"Values outside the function: \", mylist)"
   ]
  },
  {
   "cell_type": "markdown",
   "metadata": {},
   "source": [
    "**Tham số của hàm:**\n",
    "\n",
    "*Required arguments:* \n",
    "\n",
    "- lượng tham số khi gọi phải bằng với định nghĩa hàm"
   ]
  },
  {
   "cell_type": "code",
   "execution_count": 20,
   "metadata": {},
   "outputs": [
    {
     "name": "stdout",
     "output_type": "stream",
     "text": [
      "Massp2017\n"
     ]
    },
    {
     "ename": "TypeError",
     "evalue": "printme() missing 1 required positional argument: 'str'",
     "output_type": "error",
     "traceback": [
      "\u001b[0;31m---------------------------------------------------------------------------\u001b[0m",
      "\u001b[0;31mTypeError\u001b[0m                                 Traceback (most recent call last)",
      "\u001b[0;32m<ipython-input-20-927b5cfb7ae7>\u001b[0m in \u001b[0;36m<module>\u001b[0;34m()\u001b[0m\n\u001b[1;32m      3\u001b[0m     \u001b[0;32mreturn\u001b[0m\u001b[0;34m\u001b[0m\u001b[0m\n\u001b[1;32m      4\u001b[0m \u001b[0mprintme\u001b[0m\u001b[0;34m(\u001b[0m\u001b[0;34m'Massp2017'\u001b[0m\u001b[0;34m)\u001b[0m\u001b[0;34m\u001b[0m\u001b[0m\n\u001b[0;32m----> 5\u001b[0;31m \u001b[0mprintme\u001b[0m\u001b[0;34m(\u001b[0m\u001b[0;34m)\u001b[0m \u001b[0;31m# lỗi\u001b[0m\u001b[0;34m\u001b[0m\u001b[0m\n\u001b[0m",
      "\u001b[0;31mTypeError\u001b[0m: printme() missing 1 required positional argument: 'str'"
     ]
    }
   ],
   "source": [
    "def printme(str):\n",
    "    print(str)\n",
    "    return\n",
    "printme('Massp2017')\n",
    "printme() # lỗi "
   ]
  },
  {
   "cell_type": "markdown",
   "metadata": {},
   "source": [
    "*Keyword arguments:* \n",
    "\n",
    "- truyền tham số với tên tham số\n",
    "- thứ tự tham số không quan trọng"
   ]
  },
  {
   "cell_type": "code",
   "execution_count": 21,
   "metadata": {},
   "outputs": [
    {
     "name": "stdout",
     "output_type": "stream",
     "text": [
      "Python 18\n"
     ]
    }
   ],
   "source": [
    "def printme(name, age):\n",
    "    print(name, age)\n",
    "    return\n",
    "printme(age = 18, name = 'Python')"
   ]
  },
  {
   "cell_type": "markdown",
   "metadata": {},
   "source": [
    "*Default arguments:* \n",
    "\n",
    "- khi tham số được gán giá trị mặc định ở định nghĩa hàm thì có thể không cần truyền tham số đó vào vẫn được"
   ]
  },
  {
   "cell_type": "code",
   "execution_count": 22,
   "metadata": {},
   "outputs": [
    {
     "name": "stdout",
     "output_type": "stream",
     "text": [
      "Boo 19\n",
      "Boo 20\n"
     ]
    }
   ],
   "source": [
    "def printme(name, age = 19):\n",
    "    print(name, age)\n",
    "    return\n",
    "printme('Boo')\n",
    "printme('Boo', 20)"
   ]
  },
  {
   "cell_type": "markdown",
   "metadata": {},
   "source": [
    "*Variable-length arguments:*\n",
    "\n",
    "- các tham số bổ sung vào hàm sẽ được lưu lại vào một tuple (như vartuple dưới đây, chú ý cần phải có dấu (*) trước tên biến)"
   ]
  },
  {
   "cell_type": "code",
   "execution_count": 23,
   "metadata": {},
   "outputs": [
    {
     "name": "stdout",
     "output_type": "stream",
     "text": [
      "Output is: \n",
      "10\n",
      "Additional arguments: \n",
      "Output is: \n",
      "70\n",
      "Additional arguments: \n",
      "xxx\n",
      "50\n"
     ]
    }
   ],
   "source": [
    "def printinfo( arg1, *vartuple ):\n",
    "    \"This prints a variable passed arguments\"\n",
    "    print (\"Output is: \")\n",
    "    print (arg1)\n",
    "    print (\"Additional arguments: \")\n",
    "    for var in vartuple:\n",
    "        print (var)\n",
    "    return;\n",
    "\n",
    "printinfo( 10 )\n",
    "printinfo( 70, 'xxx', 50 )"
   ]
  },
  {
   "cell_type": "markdown",
   "metadata": {},
   "source": [
    "** Hàm ẩn danh (Anonymous function hay lambda function): **"
   ]
  },
  {
   "cell_type": "code",
   "execution_count": 24,
   "metadata": {},
   "outputs": [
    {
     "name": "stdout",
     "output_type": "stream",
     "text": [
      "Value of total :  30\n",
      "Value of total :  40\n"
     ]
    }
   ],
   "source": [
    "sum = lambda arg1, arg2: arg1 + arg2;\n",
    "\n",
    "print (\"Value of total : \", sum( 10, 20 ))\n",
    "print (\"Value of total : \", sum( 20, 20 ))"
   ]
  },
  {
   "cell_type": "markdown",
   "metadata": {},
   "source": [
    "**Lệnh return:** có thể return 1 biến, 1 tuple hay không gì cả"
   ]
  },
  {
   "cell_type": "code",
   "execution_count": 25,
   "metadata": {},
   "outputs": [
    {
     "name": "stdout",
     "output_type": "stream",
     "text": [
      "3\n",
      "(3, -1)\n",
      "None\n"
     ]
    }
   ],
   "source": [
    "def sum(a,b):\n",
    "    return a+b\n",
    "def sumAndSub(a,b):\n",
    "    return a+b, a-b\n",
    "def doNothing():\n",
    "    return\n",
    "print(sum(1,2))\n",
    "print(sumAndSub(1,2))\n",
    "print(doNothing())"
   ]
  },
  {
   "cell_type": "markdown",
   "metadata": {},
   "source": [
    "---\n",
    "## [Modules](https://www.tutorialspoint.com/python/python_modules.htm)\n",
    "\n",
    "Có 1 file source code hello.py như sau:\n",
    "```python\n",
    "#hello.py\n",
    "yourname = 'Python'\n",
    "def print_func(name):\n",
    "    print (\"Hello \" + name)\n",
    "    return\n",
    "```\n",
    "Tại cùng 1 thư mục chứa hello.py ta có file main.py\n",
    "```python\n",
    "# main.py\n",
    "import hello\n",
    "\n",
    "hello.print_func(hello.yourname)\n",
    "```\n",
    "Và output sẽ là\n",
    "```\n",
    "Hello Python\n",
    "```\n",
    "Ở trên là một ví dụ về module và cách import module. hello.py ở trên là một module. Một module có thể định nghĩa là 1 file code python, trong đó có định nghĩa function, class và biến\n",
    "\n",
    "Để import module chúng ta có thể áp dụng cách trên hoặc sử dùng ```from ... import ```\n",
    "```python\n",
    "# main.py\n",
    "from hello import print_function\n",
    "\n",
    "print_func(hello.yourname)\n",
    "```\n",
    "hoặc cũng có thể dùng ```from ... import *``` để import tất các mọi thứ trong module\n",
    "```python\n",
    "# main.py\n",
    "from hello import *\n",
    "\n",
    "print_func(yourname)\n",
    "```\n",
    "**Vị trí của module:**\n",
    "\n",
    "Khi import một module, python sẽ tìm module theo thứ tự sau:\n",
    "\n",
    "- Python sẽ tìm ở thư mục hiện tại\n",
    "- Nếu không tìm thấy, nó sẽ tìm trong shell variable PYTHONPATH\n",
    "- Cuối cùng, python sẽ tìm ở trong defaul path mà ở trong UNIX thường là  /usr/local/lib/python/.\n",
    "**Python Packet:**\n",
    "\n",
    "Python packet có thể hiểu là một tập hợp các module, subpackage, sub-subpacket, ...\n",
    "\n",
    "Giả sử chúng ta có các module Pots, Isdn, G3 trong cùng một folder là Phone. Trong Phone, ta tạo thêm file __init__.py như sau:\n",
    "```python\n",
    "from Pots import Pots\n",
    "from Isdn import Isdn\n",
    "from G3 import G3\n",
    "```\n",
    "Để sử dụng pakage Phone ta có thể implement như sau:\n",
    "```python\n",
    "# main.py\n",
    "# Now import your Phone Package.\n",
    "import Phone\n",
    "\n",
    "Phone.Pots()\n",
    "Phone.Isdn()\n",
    "Phone.G3()\n",
    "```\n",
    "\n",
    "---\n",
    "## [Files I/O](https://www.tutorialspoint.com/python/python_files_io.htm)\n",
    "\n",
    "**Đọc, ghi từ bàn phím:**\n",
    "\n",
    "In ra màn hình: print(string)\n",
    "\n",
    "Nhập từ bàn phím: input()"
   ]
  },
  {
   "cell_type": "code",
   "execution_count": 26,
   "metadata": {},
   "outputs": [
    {
     "name": "stdout",
     "output_type": "stream",
     "text": [
      "Enter your input: 123321 Massp\n",
      "123321 Massp\n"
     ]
    }
   ],
   "source": [
    "str = input('Enter your input: ')\n",
    "print(str)"
   ]
  },
  {
   "cell_type": "code",
   "execution_count": null,
   "metadata": {
    "collapsed": true
   },
   "outputs": [],
   "source": []
  },
  {
   "cell_type": "markdown",
   "metadata": {},
   "source": [
    "**Đọc, ghi từ file:**\n",
    "```python\n",
    "# fileobject = open('filename','mode')\n",
    "fin = open('input.txt', 'r')\n",
    "fou = open('output.txt', 'w')\n",
    "input = fin.read() \n",
    "output = 'Write something!'\n",
    "fou.write(output)\n",
    "fin.close()\n",
    "fou.close()\n",
    "```"
   ]
  },
  {
   "cell_type": "code",
   "execution_count": null,
   "metadata": {
    "collapsed": true
   },
   "outputs": [],
   "source": []
  },
  {
   "cell_type": "markdown",
   "metadata": {},
   "source": [
    "### Notebook được chuẩn bị bởi Nguyễn Tài Long, Nguyễn Trung Nghĩa, dựa trên nội dung từ https://www.tutorialspoint.com/python/ "
   ]
  }
 ],
 "metadata": {
  "kernelspec": {
   "display_name": "Python 3",
   "language": "python",
   "name": "python3"
  },
  "language_info": {
   "codemirror_mode": {
    "name": "ipython",
    "version": 3
   },
   "file_extension": ".py",
   "mimetype": "text/x-python",
   "name": "python",
   "nbconvert_exporter": "python",
   "pygments_lexer": "ipython3",
   "version": "3.6.2"
  }
 },
 "nbformat": 4,
 "nbformat_minor": 1
}
