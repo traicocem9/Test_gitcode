{
 "cells": [
  {
   "cell_type": "markdown",
   "metadata": {},
   "source": [
    "# Giới thiệu cách sử dụng thư viện Pandas\n",
    "Trong bài học này, chúng ta sẽ tìm hiểu về thư viện Pandas - mảnh ghép cuối cùng trong những thư viện cơ bản cần thiết để chuẩn bị cho MaSSP 2018!"
   ]
  },
  {
   "cell_type": "markdown",
   "metadata": {},
   "source": [
    "## 1. Pandas là gì?\n",
    "Khi làm việc với một bảng dữ liệu, chúng ta thường sử dụng những phần mềm như Microsoft Excel để nhanh chóng thực hiện các thao tác như sắp xếp dữ liệu, vẽ biểu đồ, thực hiện tính toán...\n",
    "\n",
    "!['Google Spreadsheet'](images/google_spreadsheet.png)\n",
    "!['Google Spreadsheet Chart'](images/google_spreadsheet_chart_1.png)\n"
   ]
  },
  {
   "cell_type": "markdown",
   "metadata": {},
   "source": [
    "Tuy nhiên, các công cụ này chỉ phù hợp khi làm việc với khối lượng dữ liệu nhỏ. Với những dataset lớn, chúng ta cần những công cụ chuyên dụng hơn, ví dụ như Pandas.\n",
    "\n",
    "Pandas là một thư viện mã nguồn mở giúp các thao tác khi làm việc với cấu trúc dữ liệu dạng bảng trở nên dễ dàng hơn. Trang chủ của Pandas: http://pandas.pydata.org/pandas-docs/stable/.\n",
    "\n",
    "Trong bài này, các bạn sẽ học các nội dung sau:\n",
    "* Cấu trúc dữ liệu trong Pandas\n",
    "* Xử lý dữ liệu đầu vào\n",
    "* Chuyển đổi dữ liệu\n",
    "* Minh hoạ dữ liệu\n",
    "\n",
    "Trước hết, hãy nhập những thư viện cần dùng trong bài này."
   ]
  },
  {
   "cell_type": "code",
   "execution_count": 1,
   "metadata": {
    "collapsed": true
   },
   "outputs": [],
   "source": [
    "import matplotlib.pyplot as plt\n",
    "import numpy as np\n",
    "import pandas as pd"
   ]
  },
  {
   "cell_type": "markdown",
   "metadata": {},
   "source": [
    "## 2. Cấu trúc dữ liệu trong Pandas\n",
    "Có 2 dạng cấu trúc dữ liệu quan trọng trong Pandas: Series và Dataframe. Nói một cách đơn giản, Series thể hiện một hàng hay một cột dữ liệu cùng loại, và Dataframe có thể gồm 1 hay nhiều Series.\n",
    "\n",
    "### 2.1 Series\n",
    "Trong một Series, ngoài các dữ liệu trong hàng hay cột, nó còn chứa các nhãn (index), ứng với tên của từng hàng hay từng cột. Ví dụ, Series sau thể hiện số môn học của MaSSP trong 3 năm từ 2016 đến 2018: "
   ]
  },
  {
   "cell_type": "code",
   "execution_count": 2,
   "metadata": {},
   "outputs": [
    {
     "name": "stdout",
     "output_type": "stream",
     "text": [
      "s:\n",
      "Năm 2016    2\n",
      "Năm 2017    4\n",
      "Năm 2018    5\n",
      "dtype: int64\n",
      "\n",
      "Index của s: \n",
      "Index(['Năm 2016', 'Năm 2017', 'Năm 2018'], dtype='object')\n"
     ]
    }
   ],
   "source": [
    "s = pd.Series(data=[2, 4, 5], index=[\"Năm 2016\", \"Năm 2017\", \"Năm 2018\"])\n",
    "print(\"s:\")\n",
    "print(s)\n",
    "\n",
    "print(\"\\nIndex của s: \")\n",
    "print(s.index)"
   ]
  },
  {
   "cell_type": "markdown",
   "metadata": {},
   "source": [
    "Các bạn thấy rằng dữ liệu nhập vào `data` cũng như nhãn `index` đều có dạng list.\n",
    "\n",
    "Ngoài ra, ta còn có thể khởi tạo Series bằng cách nhập vào một `dictionary`, với `key` là nhãn, và `value` là dữ liệu tương ứng."
   ]
  },
  {
   "cell_type": "code",
   "execution_count": 3,
   "metadata": {},
   "outputs": [
    {
     "data": {
      "text/plain": [
       "Năm 2016    2\n",
       "Năm 2017    4\n",
       "Năm 2018    5\n",
       "dtype: int64"
      ]
     },
     "execution_count": 3,
     "metadata": {},
     "output_type": "execute_result"
    }
   ],
   "source": [
    "s = pd.Series(data = { \"Năm 2016\": 2, \"Năm 2017\": 4, \"Năm 2018\": 5})\n",
    "s"
   ]
  },
  {
   "cell_type": "markdown",
   "metadata": {},
   "source": [
    "Khi đã hiểu dữ liệu trong Series biểu hiện như một `list` và cũng có thể biểu hiện như một `dictionary`, ta có thể suy ra các truy cập từng phần tử hay một nhóm các phần tử trong Series như sau:"
   ]
  },
  {
   "cell_type": "code",
   "execution_count": 4,
   "metadata": {},
   "outputs": [
    {
     "data": {
      "text/plain": [
       "5"
      ]
     },
     "execution_count": 4,
     "metadata": {},
     "output_type": "execute_result"
    }
   ],
   "source": [
    "s[\"Năm 2018\"]"
   ]
  },
  {
   "cell_type": "code",
   "execution_count": 5,
   "metadata": {},
   "outputs": [
    {
     "data": {
      "text/plain": [
       "2"
      ]
     },
     "execution_count": 5,
     "metadata": {},
     "output_type": "execute_result"
    }
   ],
   "source": [
    "s[0]"
   ]
  },
  {
   "cell_type": "code",
   "execution_count": 6,
   "metadata": {},
   "outputs": [
    {
     "data": {
      "text/plain": [
       "Năm 2017    4\n",
       "Năm 2018    5\n",
       "dtype: int64"
      ]
     },
     "execution_count": 6,
     "metadata": {},
     "output_type": "execute_result"
    }
   ],
   "source": [
    "s[1:]"
   ]
  },
  {
   "cell_type": "markdown",
   "metadata": {},
   "source": [
    "Ngoài ra, chúng ta cũng có thể thực hiện các thao tác tính toán lên một Series. Ví dụ:"
   ]
  },
  {
   "cell_type": "code",
   "execution_count": 7,
   "metadata": {},
   "outputs": [
    {
     "data": {
      "text/plain": [
       "Năm 2016     4\n",
       "Năm 2017     8\n",
       "Năm 2018    10\n",
       "dtype: int64"
      ]
     },
     "execution_count": 7,
     "metadata": {},
     "output_type": "execute_result"
    }
   ],
   "source": [
    "s*2"
   ]
  },
  {
   "cell_type": "markdown",
   "metadata": {},
   "source": [
    "### 2.2 Dataframe\n",
    "Khác với Series là cấu trúc dữ liệu một chiều, Dataframe là cấu trúc dữ liệu 2 chiều, và các cột có thể chứa các loại dữ liệu khác nhau (xâu, số nguyên, số thập phân...).\n",
    "\n",
    "Có nhiều cách để khởi tạo một Dataframe:\n",
    "- Từ một `dict` của các lists, dicts, hoặc Series\n",
    "- Từ numpy.ndarray\n",
    "- Từ một Series\n",
    "- Từ một DataFrame khác"
   ]
  },
  {
   "cell_type": "code",
   "execution_count": 8,
   "metadata": {},
   "outputs": [
    {
     "data": {
      "text/html": [
       "<div>\n",
       "<style>\n",
       "    .dataframe thead tr:only-child th {\n",
       "        text-align: right;\n",
       "    }\n",
       "\n",
       "    .dataframe thead th {\n",
       "        text-align: left;\n",
       "    }\n",
       "\n",
       "    .dataframe tbody tr th {\n",
       "        vertical-align: top;\n",
       "    }\n",
       "</style>\n",
       "<table border=\"1\" class=\"dataframe\">\n",
       "  <thead>\n",
       "    <tr style=\"text-align: right;\">\n",
       "      <th></th>\n",
       "      <th>Cột 1</th>\n",
       "      <th>Cột 2</th>\n",
       "    </tr>\n",
       "  </thead>\n",
       "  <tbody>\n",
       "    <tr>\n",
       "      <th>0</th>\n",
       "      <td>1</td>\n",
       "      <td>2</td>\n",
       "    </tr>\n",
       "    <tr>\n",
       "      <th>1</th>\n",
       "      <td>2</td>\n",
       "      <td>4</td>\n",
       "    </tr>\n",
       "    <tr>\n",
       "      <th>2</th>\n",
       "      <td>3</td>\n",
       "      <td>6</td>\n",
       "    </tr>\n",
       "  </tbody>\n",
       "</table>\n",
       "</div>"
      ],
      "text/plain": [
       "   Cột 1  Cột 2\n",
       "0      1      2\n",
       "1      2      4\n",
       "2      3      6"
      ]
     },
     "execution_count": 8,
     "metadata": {},
     "output_type": "execute_result"
    }
   ],
   "source": [
    "# Từ một dict của các lists, dicts, hoặc Series\n",
    "# Tên các hàng nếu không được cung cấp sẽ được tự động đánh số\n",
    "df = pd.DataFrame({ \"Cột 1\": [1, 2, 3], \"Cột 2\": [2, 4, 6] })\n",
    "df"
   ]
  },
  {
   "cell_type": "code",
   "execution_count": 9,
   "metadata": {},
   "outputs": [
    {
     "data": {
      "text/html": [
       "<div>\n",
       "<style>\n",
       "    .dataframe thead tr:only-child th {\n",
       "        text-align: right;\n",
       "    }\n",
       "\n",
       "    .dataframe thead th {\n",
       "        text-align: left;\n",
       "    }\n",
       "\n",
       "    .dataframe tbody tr th {\n",
       "        vertical-align: top;\n",
       "    }\n",
       "</style>\n",
       "<table border=\"1\" class=\"dataframe\">\n",
       "  <thead>\n",
       "    <tr style=\"text-align: right;\">\n",
       "      <th></th>\n",
       "      <th>Country</th>\n",
       "      <th>Capital</th>\n",
       "      <th>Population</th>\n",
       "    </tr>\n",
       "  </thead>\n",
       "  <tbody>\n",
       "    <tr>\n",
       "      <th>0</th>\n",
       "      <td>Belgium</td>\n",
       "      <td>Brussels</td>\n",
       "      <td>11190846</td>\n",
       "    </tr>\n",
       "    <tr>\n",
       "      <th>1</th>\n",
       "      <td>India</td>\n",
       "      <td>New Delhi</td>\n",
       "      <td>1303171035</td>\n",
       "    </tr>\n",
       "    <tr>\n",
       "      <th>2</th>\n",
       "      <td>Brazil</td>\n",
       "      <td>Brasília</td>\n",
       "      <td>207847528</td>\n",
       "    </tr>\n",
       "  </tbody>\n",
       "</table>\n",
       "</div>"
      ],
      "text/plain": [
       "   Country    Capital  Population\n",
       "0  Belgium   Brussels    11190846\n",
       "1    India  New Delhi  1303171035\n",
       "2   Brazil   Brasília   207847528"
      ]
     },
     "execution_count": 9,
     "metadata": {},
     "output_type": "execute_result"
    }
   ],
   "source": [
    "# Trường hợp này, các cột có loại dữ liệu khác nhau \n",
    "data = {'Country': ['Belgium', 'India', 'Brazil'],\n",
    "        'Capital': ['Brussels', 'New Delhi', 'Brasília'],\n",
    "        'Population': [11190846, 1303171035, 207847528]}\n",
    "df = pd.DataFrame(data, columns=['Country', 'Capital', 'Population'])\n",
    "df"
   ]
  },
  {
   "cell_type": "code",
   "execution_count": 10,
   "metadata": {},
   "outputs": [
    {
     "data": {
      "text/html": [
       "<div>\n",
       "<style>\n",
       "    .dataframe thead tr:only-child th {\n",
       "        text-align: right;\n",
       "    }\n",
       "\n",
       "    .dataframe thead th {\n",
       "        text-align: left;\n",
       "    }\n",
       "\n",
       "    .dataframe tbody tr th {\n",
       "        vertical-align: top;\n",
       "    }\n",
       "</style>\n",
       "<table border=\"1\" class=\"dataframe\">\n",
       "  <thead>\n",
       "    <tr style=\"text-align: right;\">\n",
       "      <th></th>\n",
       "      <th>0</th>\n",
       "    </tr>\n",
       "  </thead>\n",
       "  <tbody>\n",
       "    <tr>\n",
       "      <th>0</th>\n",
       "      <td>0</td>\n",
       "    </tr>\n",
       "    <tr>\n",
       "      <th>1</th>\n",
       "      <td>1</td>\n",
       "    </tr>\n",
       "    <tr>\n",
       "      <th>2</th>\n",
       "      <td>2</td>\n",
       "    </tr>\n",
       "    <tr>\n",
       "      <th>3</th>\n",
       "      <td>3</td>\n",
       "    </tr>\n",
       "    <tr>\n",
       "      <th>4</th>\n",
       "      <td>4</td>\n",
       "    </tr>\n",
       "  </tbody>\n",
       "</table>\n",
       "</div>"
      ],
      "text/plain": [
       "   0\n",
       "0  0\n",
       "1  1\n",
       "2  2\n",
       "3  3\n",
       "4  4"
      ]
     },
     "execution_count": 10,
     "metadata": {},
     "output_type": "execute_result"
    }
   ],
   "source": [
    "# Từ numpy.ndarray\n",
    "df = pd.DataFrame(np.arange(0, 5))\n",
    "df"
   ]
  },
  {
   "cell_type": "code",
   "execution_count": 11,
   "metadata": {},
   "outputs": [
    {
     "data": {
      "text/html": [
       "<div>\n",
       "<style>\n",
       "    .dataframe thead tr:only-child th {\n",
       "        text-align: right;\n",
       "    }\n",
       "\n",
       "    .dataframe thead th {\n",
       "        text-align: left;\n",
       "    }\n",
       "\n",
       "    .dataframe tbody tr th {\n",
       "        vertical-align: top;\n",
       "    }\n",
       "</style>\n",
       "<table border=\"1\" class=\"dataframe\">\n",
       "  <thead>\n",
       "    <tr style=\"text-align: right;\">\n",
       "      <th></th>\n",
       "      <th>Số học sinh</th>\n",
       "    </tr>\n",
       "  </thead>\n",
       "  <tbody>\n",
       "    <tr>\n",
       "      <th>Năm 2016</th>\n",
       "      <td>2</td>\n",
       "    </tr>\n",
       "    <tr>\n",
       "      <th>Năm 2017</th>\n",
       "      <td>4</td>\n",
       "    </tr>\n",
       "    <tr>\n",
       "      <th>Năm 2018</th>\n",
       "      <td>5</td>\n",
       "    </tr>\n",
       "  </tbody>\n",
       "</table>\n",
       "</div>"
      ],
      "text/plain": [
       "          Số học sinh\n",
       "Năm 2016            2\n",
       "Năm 2017            4\n",
       "Năm 2018            5"
      ]
     },
     "execution_count": 11,
     "metadata": {},
     "output_type": "execute_result"
    }
   ],
   "source": [
    "# Từ một Series\n",
    "df = pd.DataFrame(s, columns = [\"Số học sinh\"])\n",
    "df"
   ]
  },
  {
   "cell_type": "code",
   "execution_count": 12,
   "metadata": {},
   "outputs": [
    {
     "data": {
      "text/html": [
       "<div>\n",
       "<style>\n",
       "    .dataframe thead tr:only-child th {\n",
       "        text-align: right;\n",
       "    }\n",
       "\n",
       "    .dataframe thead th {\n",
       "        text-align: left;\n",
       "    }\n",
       "\n",
       "    .dataframe tbody tr th {\n",
       "        vertical-align: top;\n",
       "    }\n",
       "</style>\n",
       "<table border=\"1\" class=\"dataframe\">\n",
       "  <thead>\n",
       "    <tr style=\"text-align: right;\">\n",
       "      <th></th>\n",
       "      <th>Số học sinh</th>\n",
       "    </tr>\n",
       "  </thead>\n",
       "  <tbody>\n",
       "    <tr>\n",
       "      <th>Năm 2016</th>\n",
       "      <td>2</td>\n",
       "    </tr>\n",
       "    <tr>\n",
       "      <th>Năm 2017</th>\n",
       "      <td>4</td>\n",
       "    </tr>\n",
       "  </tbody>\n",
       "</table>\n",
       "</div>"
      ],
      "text/plain": [
       "          Số học sinh\n",
       "Năm 2016            2\n",
       "Năm 2017            4"
      ]
     },
     "execution_count": 12,
     "metadata": {},
     "output_type": "execute_result"
    }
   ],
   "source": [
    "# Từ một DataFrame khác\n",
    "df2 = pd.DataFrame(df[0:2])\n",
    "df2"
   ]
  },
  {
   "cell_type": "markdown",
   "metadata": {},
   "source": [
    "__Checkpoint 1__: Hãy tìm một bảng dữ liệu đơn giản trên mạng (có thể tham khảo các trang web đề cập trong file `README.md`), và khởi tạo các Series, DataFrame tương ứng."
   ]
  },
  {
   "cell_type": "markdown",
   "metadata": {},
   "source": [
    "## 3. Xử lý dữ liệu đầu vào\n",
    "Trong phần này, chúng ta sẽ học cách nhập dữ liệu vào DataFrame, dùng những hàm có sẵn trong `pandas` để có cái nhìn tổng quát về dữ liệu được nhập, cũng như học những hàm hay dùng để chọn dữ liệu, hoặc xử lý dữ liệu bị thiếu."
   ]
  },
  {
   "cell_type": "markdown",
   "metadata": {},
   "source": [
    "### 3.1 Nhập dữ liệu đầu vào\n",
    "Phần lớn dữ liệu thu thập trên mạng được lưu trong các tệp tin có định dạng `csv` (comma-separated values). Định dạng này có thể được đọc bởi những phần mềm khác nhau như Microsoft Excel, Numbers, Google Spreadsheet, và có thể được chuyển hoá dễ dàng sang các định dạng khác như `xlxs`. Để làm theo các thao tác trong lab này, các bạn có thể sử dụng tệp tin \"weather_in_Hanoi.csv\"."
   ]
  },
  {
   "cell_type": "markdown",
   "metadata": {},
   "source": [
    "Trước hết, hàm [read_csv](http://pandas.pydata.org/pandas-docs/stable/generated/pandas.read_csv.html#pandas.read_csv) được sử dụng để đọc dữ liệu trong tệp tin có định dạng `csv` vào một Dataframe."
   ]
  },
  {
   "cell_type": "code",
   "execution_count": 41,
   "metadata": {},
   "outputs": [
    {
     "data": {
      "text/html": [
       "<div>\n",
       "<style>\n",
       "    .dataframe thead tr:only-child th {\n",
       "        text-align: right;\n",
       "    }\n",
       "\n",
       "    .dataframe thead th {\n",
       "        text-align: left;\n",
       "    }\n",
       "\n",
       "    .dataframe tbody tr th {\n",
       "        vertical-align: top;\n",
       "    }\n",
       "</style>\n",
       "<table border=\"1\" class=\"dataframe\">\n",
       "  <thead>\n",
       "    <tr style=\"text-align: right;\">\n",
       "      <th></th>\n",
       "      <th>month</th>\n",
       "      <th>min_temperature (F)</th>\n",
       "      <th>max_temperature (F)</th>\n",
       "      <th>rainfall (mm)</th>\n",
       "      <th>rainy_days</th>\n",
       "    </tr>\n",
       "  </thead>\n",
       "  <tbody>\n",
       "    <tr>\n",
       "      <th>0</th>\n",
       "      <td>1</td>\n",
       "      <td>57</td>\n",
       "      <td>66</td>\n",
       "      <td>25</td>\n",
       "      <td>9</td>\n",
       "    </tr>\n",
       "    <tr>\n",
       "      <th>1</th>\n",
       "      <td>2</td>\n",
       "      <td>59</td>\n",
       "      <td>68</td>\n",
       "      <td>30</td>\n",
       "      <td>11</td>\n",
       "    </tr>\n",
       "    <tr>\n",
       "      <th>2</th>\n",
       "      <td>3</td>\n",
       "      <td>65</td>\n",
       "      <td>74</td>\n",
       "      <td>40</td>\n",
       "      <td>15</td>\n",
       "    </tr>\n",
       "    <tr>\n",
       "      <th>3</th>\n",
       "      <td>4</td>\n",
       "      <td>72</td>\n",
       "      <td>80</td>\n",
       "      <td>90</td>\n",
       "      <td>13</td>\n",
       "    </tr>\n",
       "    <tr>\n",
       "      <th>4</th>\n",
       "      <td>5</td>\n",
       "      <td>75</td>\n",
       "      <td>89</td>\n",
       "      <td>180</td>\n",
       "      <td>14</td>\n",
       "    </tr>\n",
       "    <tr>\n",
       "      <th>5</th>\n",
       "      <td>6</td>\n",
       "      <td>77</td>\n",
       "      <td>91</td>\n",
       "      <td>240</td>\n",
       "      <td>15</td>\n",
       "    </tr>\n",
       "    <tr>\n",
       "      <th>6</th>\n",
       "      <td>7</td>\n",
       "      <td>77</td>\n",
       "      <td>90</td>\n",
       "      <td>280</td>\n",
       "      <td>16</td>\n",
       "    </tr>\n",
       "    <tr>\n",
       "      <th>7</th>\n",
       "      <td>8</td>\n",
       "      <td>78</td>\n",
       "      <td>90</td>\n",
       "      <td>325</td>\n",
       "      <td>17</td>\n",
       "    </tr>\n",
       "    <tr>\n",
       "      <th>8</th>\n",
       "      <td>9</td>\n",
       "      <td>76</td>\n",
       "      <td>85</td>\n",
       "      <td>270</td>\n",
       "      <td>14</td>\n",
       "    </tr>\n",
       "    <tr>\n",
       "      <th>9</th>\n",
       "      <td>10</td>\n",
       "      <td>72</td>\n",
       "      <td>77</td>\n",
       "      <td>130</td>\n",
       "      <td>9</td>\n",
       "    </tr>\n",
       "    <tr>\n",
       "      <th>10</th>\n",
       "      <td>11</td>\n",
       "      <td>66</td>\n",
       "      <td>77</td>\n",
       "      <td>50</td>\n",
       "      <td>8</td>\n",
       "    </tr>\n",
       "    <tr>\n",
       "      <th>11</th>\n",
       "      <td>12</td>\n",
       "      <td>61</td>\n",
       "      <td>72</td>\n",
       "      <td>30</td>\n",
       "      <td>7</td>\n",
       "    </tr>\n",
       "  </tbody>\n",
       "</table>\n",
       "</div>"
      ],
      "text/plain": [
       "    month  min_temperature (F)  max_temperature (F)  rainfall (mm)  rainy_days\n",
       "0       1                   57                   66             25           9\n",
       "1       2                   59                   68             30          11\n",
       "2       3                   65                   74             40          15\n",
       "3       4                   72                   80             90          13\n",
       "4       5                   75                   89            180          14\n",
       "5       6                   77                   91            240          15\n",
       "6       7                   77                   90            280          16\n",
       "7       8                   78                   90            325          17\n",
       "8       9                   76                   85            270          14\n",
       "9      10                   72                   77            130           9\n",
       "10     11                   66                   77             50           8\n",
       "11     12                   61                   72             30           7"
      ]
     },
     "execution_count": 41,
     "metadata": {},
     "output_type": "execute_result"
    }
   ],
   "source": [
    "df = pd.read_csv('weather_in_Hanoi.csv')\n",
    "df"
   ]
  },
  {
   "cell_type": "markdown",
   "metadata": {},
   "source": [
    "Pandas cung cấp một số hàm có sẵn, giúp ta có được cái nhìn toàn thể về bảng dữ liệu.\n",
    "* Hàm `head()` và `tail()` trả một DataFrame chứa một số hàng đầu hoặc cuối của bảng dữ liệu\n",
    "* `index` và `columns` trả dãy các nhãn của các hàng và cột\n",
    "* Hàm `info()` và `describe()` cho biết thông tin về loại dữ liệu, cũng như các thông số quan trọng trong các cột\n",
    "Các bạn hãy thực hiện các lệnh sau để thấy rõ hơn:"
   ]
  },
  {
   "cell_type": "code",
   "execution_count": null,
   "metadata": {
    "collapsed": true,
    "scrolled": true
   },
   "outputs": [],
   "source": [
    "# Nếu không cung cấp số hàng, hai hàm này sẽ trả về nhiều nhất là 5 hàng\n",
    "df.head()"
   ]
  },
  {
   "cell_type": "code",
   "execution_count": null,
   "metadata": {
    "collapsed": true
   },
   "outputs": [],
   "source": [
    "df.tail(3)"
   ]
  },
  {
   "cell_type": "code",
   "execution_count": null,
   "metadata": {
    "collapsed": true,
    "scrolled": true
   },
   "outputs": [],
   "source": [
    "# Trả nhãn của các cột\n",
    "df.columns"
   ]
  },
  {
   "cell_type": "code",
   "execution_count": 17,
   "metadata": {},
   "outputs": [
    {
     "data": {
      "text/plain": [
       "RangeIndex(start=0, stop=12, step=1)"
      ]
     },
     "execution_count": 17,
     "metadata": {},
     "output_type": "execute_result"
    }
   ],
   "source": [
    "# Trả nhãn của các hàng. Trong trường hợp này là các số từ 0 đến 11 do ta không cung cấp index\n",
    "df.index"
   ]
  },
  {
   "cell_type": "code",
   "execution_count": null,
   "metadata": {
    "collapsed": true
   },
   "outputs": [],
   "source": [
    "# Hàm info mô tả loại dữ liệu và số dữ liệu có trong mỗi cột\n",
    "df.info()"
   ]
  },
  {
   "cell_type": "code",
   "execution_count": null,
   "metadata": {
    "collapsed": true
   },
   "outputs": [],
   "source": [
    "# Hàm describe lần lượt tính số dữ liệu, trung bình, độ lệch chuẩn, giá trị nhỏ nhất, \n",
    "# giá trị nằm ở khoảng 25%, 50%, 75%, và giá trị lớn nhất của từng hàng\n",
    "df.describe()"
   ]
  },
  {
   "cell_type": "markdown",
   "metadata": {},
   "source": [
    "__Checkpoint 2__: Hãy thử giải thích xem những con số thu được dưới cột `month`, hàng `25%, 50%, 75%` trong đầu ra của `df.describe()` ở trên là từ đâu ra?"
   ]
  },
  {
   "cell_type": "markdown",
   "metadata": {},
   "source": [
    "### 3.2 Lấy dữ liệu từ hàng, cột\n",
    "Việc chọn nguyên một cột từ DataFrame là hết sức đơn giản, tương tự việc chọn giá trị `value` từ một `dictionary`, khi biết `key`. Loại dữ liệu thu được chính là Series!"
   ]
  },
  {
   "cell_type": "code",
   "execution_count": null,
   "metadata": {
    "collapsed": true
   },
   "outputs": [],
   "source": [
    "print(df['min_temperature (F)'])\n",
    "print(\"\\nLoại dữ liệu: {}\".format(type(df['min_temperature (F)'])))"
   ]
  },
  {
   "cell_type": "markdown",
   "metadata": {},
   "source": [
    "Đặc biệt, đối với những cột có tên không có dấu cách, ví dụ `month`, ta có thể dùng `df.month` thay vì `df['month']`."
   ]
  },
  {
   "cell_type": "code",
   "execution_count": null,
   "metadata": {
    "collapsed": true,
    "scrolled": true
   },
   "outputs": [],
   "source": [
    "df.month"
   ]
  },
  {
   "cell_type": "markdown",
   "metadata": {},
   "source": [
    "Để chọn được nhiều cột một lúc, ta chỉ cung cấp một list chứa tên của các cột cần chọn. Lưu ý dạng dữ liệu của kết quả thu được là DataFrame!"
   ]
  },
  {
   "cell_type": "code",
   "execution_count": null,
   "metadata": {
    "collapsed": true
   },
   "outputs": [],
   "source": [
    "# Chọn 2 cột 'month', 'min_temperature (F)'\n",
    "df[['month', 'min_temperature (F)']]"
   ]
  },
  {
   "cell_type": "code",
   "execution_count": 23,
   "metadata": {},
   "outputs": [
    {
     "data": {
      "text/plain": [
       "pandas.core.frame.DataFrame"
      ]
     },
     "execution_count": 23,
     "metadata": {},
     "output_type": "execute_result"
    }
   ],
   "source": [
    "type(df[['month', 'min_temperature (F)']])"
   ]
  },
  {
   "cell_type": "markdown",
   "metadata": {},
   "source": [
    "Để chọn được một hàng, ta dùng `loc` và cung cấp vị trí của hàng, hoặc dùng `iloc` và cung cấp index của hàng. Trong ví dụ hiện tại, index cũng chính là số thứ tự của mỗi hàng."
   ]
  },
  {
   "cell_type": "code",
   "execution_count": null,
   "metadata": {
    "collapsed": true
   },
   "outputs": [],
   "source": [
    "df.loc[3]"
   ]
  },
  {
   "cell_type": "code",
   "execution_count": null,
   "metadata": {
    "collapsed": true
   },
   "outputs": [],
   "source": [
    "df.iloc[3]"
   ]
  },
  {
   "cell_type": "markdown",
   "metadata": {},
   "source": [
    "Tương tự như cách chọn nhiều cột, bạn có đoán được cách chọn nhiều hàng một lúc không?"
   ]
  },
  {
   "cell_type": "code",
   "execution_count": 26,
   "metadata": {
    "collapsed": true
   },
   "outputs": [],
   "source": [
    "# code\n"
   ]
  },
  {
   "cell_type": "markdown",
   "metadata": {},
   "source": [
    "Kết hợp cách tìm một hàng trong DataFrame, và tìm một phần tử trong Series, ta có thể chọn một phần tử bất kì trong DataFrame:"
   ]
  },
  {
   "cell_type": "code",
   "execution_count": 27,
   "metadata": {},
   "outputs": [
    {
     "data": {
      "text/plain": [
       "72"
      ]
     },
     "execution_count": 27,
     "metadata": {},
     "output_type": "execute_result"
    }
   ],
   "source": [
    "df.loc[3]['min_temperature (F)']"
   ]
  },
  {
   "cell_type": "markdown",
   "metadata": {},
   "source": [
    "Cuối cùng, để chọn một DataFrame nhỏ hơn trong DataFrame hiện tại, ta cũng sử dụng cú pháp tương tự như chọn hàng và cột."
   ]
  },
  {
   "cell_type": "code",
   "execution_count": null,
   "metadata": {
    "collapsed": true
   },
   "outputs": [],
   "source": [
    "# Chọn 2 cột 'max_temperature (F)', 'min_temperature (F)' của 4 tháng đầu tiên\n",
    "df.loc[0:3][['max_temperature (F)', 'min_temperature (F)']]"
   ]
  },
  {
   "cell_type": "markdown",
   "metadata": {},
   "source": [
    "Ngoài cách chọn hàng và cột theo tên hay vị trí, chúng ta còn có thể chọn những hàng, cột thoả mãn một điều kiện nào đó. Ví dụ để chọn những tháng có lượng mưa nhiều hơn 110 mm:"
   ]
  },
  {
   "cell_type": "code",
   "execution_count": null,
   "metadata": {
    "collapsed": true
   },
   "outputs": [],
   "source": [
    "df[df['rainfall (mm)'] > 110]"
   ]
  },
  {
   "cell_type": "markdown",
   "metadata": {},
   "source": [
    "__Checkpoint 3__: Sử dụng các hàm đã học để trả lời những câu hỏi sau:\n",
    "1. Lấy dữ liệu lượng mưa (rainfall) và nhiệt độ cao nhất (max_temperature (F)) vào tháng 6 và tháng 7 tại Hà Nội - thời điểm diễn ra MaSSP 2018!\n",
    "2. Những tháng nào có nhiệt dộ thấp nhất (min_temperature (F)) bằng 77?\n",
    "3. Chỉ ra 3 tháng có số ngày mưa lớn nhất."
   ]
  },
  {
   "cell_type": "markdown",
   "metadata": {},
   "source": [
    "### 3.3 Xử lý số liệu bị thiếu"
   ]
  },
  {
   "cell_type": "markdown",
   "metadata": {},
   "source": [
    "Bạn có biết rằng phần lớn thời gian của nhà Khoa học Dữ liệu là dành cho việc xử lý dữ liệu ban đầu? Có rất nhiều yếu tố có thể ảnh hưởng đến chất lượng của dữ liệu chúng ta thu thập được.\n",
    "\n",
    "Ví dụ khi phát phiếu khảo sát về vấn đề nào đó trong xã hội, việc tất cả người dân điền phiếu khảo sát là điều không tưởng! Chưa hết, có những người chỉ trả lời một nửa số câu hỏi, bỏ trống các câu còn lại. Vậy chúng ta nên bỏ những phiếu không đầy đủ đi, hay đơn giản là không tính những câu trả lời trống?\n",
    "\n",
    "Một ví dụ khác liên quan đến việc ghi lại lộ trình của xe ô tô qua tín hiệu GPS trên điện thoại. Dữ liệu thu được phải rất đáng tin cậy phải không nào? Tuy nhiên, nếu ô tô đi qua hầm cầu, tín hiệu GPS sẽ bị mất, và dữ liệu thu được còn không còn liên tục nữa.\n",
    "\n",
    "Trong phần này, chúng ta sẽ chỉ học cách điền dữ liệu còn thiếu trong DataFrame bằng một giá trị mặc định. Đầu tiên, bạn hãy sử dụng những hàm đã học ở trên, nhập dữ liệu có trong tệp tin \"cs_applications.csv\" vào biến `df2`."
   ]
  },
  {
   "cell_type": "code",
   "execution_count": null,
   "metadata": {
    "collapsed": true
   },
   "outputs": [],
   "source": [
    "# code\n",
    "df2 = ..."
   ]
  },
  {
   "cell_type": "markdown",
   "metadata": {},
   "source": [
    "Ta dễ dàng thấy rằng những câu trả lời để trống sẽ có dạng `NaN` (Not a Number). Hãy sử dụng hàm `info()` để xem thông tin về số lượng dữ liệu trong mỗi cột, và mở xem nội dung của tệp tin \"cs_applications.csv\" cùng lúc. Bạn có thấy đầu ra của hàm `info()` phản ánh đúng số dữ liệu bị thiếu trong tệp tin?"
   ]
  },
  {
   "cell_type": "code",
   "execution_count": 31,
   "metadata": {
    "collapsed": true
   },
   "outputs": [],
   "source": [
    "# code\n"
   ]
  },
  {
   "cell_type": "markdown",
   "metadata": {},
   "source": [
    "Trong những cột cần giá trị số như `Điểm phẩy môn Toán` và `Điểm phẩy môn Tin`, ta sẽ chọn giá trị mặc định là `0.0` (đừng lo, điểm phẩy chỉ mang tính chất tham khảo trong quyết định chọn học sinh cho môn Tin học!). Đối với như cầu hỗ trợ kí túc xá, giá trị mặc định sẽ là `Không` nếu thí sinh không trả lời câu này.\n",
    "\n",
    "Cú pháp để chuyển đổi các giá trị `NaN` thành các giá trị mặc định theo từng cột là:"
   ]
  },
  {
   "cell_type": "code",
   "execution_count": 32,
   "metadata": {},
   "outputs": [
    {
     "data": {
      "text/html": [
       "<div>\n",
       "<style>\n",
       "    .dataframe thead tr:only-child th {\n",
       "        text-align: right;\n",
       "    }\n",
       "\n",
       "    .dataframe thead th {\n",
       "        text-align: left;\n",
       "    }\n",
       "\n",
       "    .dataframe tbody tr th {\n",
       "        vertical-align: top;\n",
       "    }\n",
       "</style>\n",
       "<table border=\"1\" class=\"dataframe\">\n",
       "  <thead>\n",
       "    <tr style=\"text-align: right;\">\n",
       "      <th></th>\n",
       "      <th>Thí sinh</th>\n",
       "      <th>Điểm phẩy môn Toán</th>\n",
       "      <th>Điểm phẩy môn Tin</th>\n",
       "      <th>Cần hỗ trợ kí túc xá</th>\n",
       "    </tr>\n",
       "  </thead>\n",
       "  <tbody>\n",
       "    <tr>\n",
       "      <th>1</th>\n",
       "      <td>A</td>\n",
       "      <td>9.1</td>\n",
       "      <td>0.0</td>\n",
       "      <td>Không</td>\n",
       "    </tr>\n",
       "    <tr>\n",
       "      <th>2</th>\n",
       "      <td>B</td>\n",
       "      <td>8.7</td>\n",
       "      <td>9.5</td>\n",
       "      <td>Có</td>\n",
       "    </tr>\n",
       "    <tr>\n",
       "      <th>3</th>\n",
       "      <td>C</td>\n",
       "      <td>7.9</td>\n",
       "      <td>0.0</td>\n",
       "      <td>NaN</td>\n",
       "    </tr>\n",
       "    <tr>\n",
       "      <th>4</th>\n",
       "      <td>D</td>\n",
       "      <td>8.2</td>\n",
       "      <td>8.5</td>\n",
       "      <td>NaN</td>\n",
       "    </tr>\n",
       "    <tr>\n",
       "      <th>5</th>\n",
       "      <td>E</td>\n",
       "      <td>0.0</td>\n",
       "      <td>0.0</td>\n",
       "      <td>Không</td>\n",
       "    </tr>\n",
       "  </tbody>\n",
       "</table>\n",
       "</div>"
      ],
      "text/plain": [
       "  Thí sinh  Điểm phẩy môn Toán  Điểm phẩy môn Tin Cần hỗ trợ kí túc xá\n",
       "1        A                 9.1                0.0                Không\n",
       "2        B                 8.7                9.5                   Có\n",
       "3        C                 7.9                0.0                  NaN\n",
       "4        D                 8.2                8.5                  NaN\n",
       "5        E                 0.0                0.0                Không"
      ]
     },
     "execution_count": 32,
     "metadata": {},
     "output_type": "execute_result"
    }
   ],
   "source": [
    "df2.fillna({ \"Điểm phẩy môn Toán\": 0.0, \"Điểm phẩy môn Tin\": 0.0 }, inplace=True)\n",
    "df2"
   ]
  },
  {
   "cell_type": "markdown",
   "metadata": {},
   "source": [
    "Các bạn lưu ý khi cung cấp `inplace=True`, DataFrame `df2` sẽ thay đổi \"tại chỗ\". Nếu không cung cấp giá trị này, `df2` sẽ không bị biến đổi, các giá trị `NaN` sẽ không bị thay thế bởi `0.0`."
   ]
  },
  {
   "cell_type": "markdown",
   "metadata": {},
   "source": [
    "__Checkpoint 4__: Hãy chuyển đổi các giá trị `NaN` trong cột \"Cần hỗ trợ kí túc xá\" thành \"Không\". Lần này, hãy thử hàm `fillna` khi _không_ cung cấp `inplace=True` trước, và so sánh với giá trị của `df2` khi cung cấp `inplace=True`."
   ]
  },
  {
   "cell_type": "markdown",
   "metadata": {},
   "source": [
    "## 4. Chuyển đổi dữ liệu\n",
    "Khi xử lý dữ liệu, ngoài việc xử lý các dữ liệu bị thiếu, nhiều khi dữ liệu ban đầu chúng ta thu thập được chưa phải là dữ liệu cần thiết cho các bước tiếp theo như minh hoạ dữ liệu, chạy mô hình Machine Learning,... Ví dụ trong bảng dữ liệu lấy được từ tệp tin \"weather_in_Hanoi.csv\", đơn vị nhiệt độ của hai cột `min_temperature` và `max_temperature` là độ F (Fahrenheit) thay vì độ C (Celsius) quen thuộc:"
   ]
  },
  {
   "cell_type": "code",
   "execution_count": null,
   "metadata": {
    "collapsed": true,
    "scrolled": true
   },
   "outputs": [],
   "source": [
    "df = pd.read_csv('weather_in_Hanoi.csv')\n",
    "df"
   ]
  },
  {
   "cell_type": "markdown",
   "metadata": {},
   "source": [
    "Để dữ liệu trở nên dễ hiểu, chúng ta sẽ thêm vào các cột sau vào `df`:\n",
    "- 'max_temperature (C)': nhiệt độ cao nhất theo độ C\n",
    "- 'min_temperature (C)': nhiệt độ thấp nhất theo độ C\n",
    "- 'rainfall (cm)': lưu lượng mưa tính theo cm\n",
    "\n",
    "Sau đây là công thức chuyển đổi độ F sang độ C:\n",
    "$$T_{(°C)} = \\frac{(T_{(°F)} - 32)}{1.8}$$\n",
    "Và để thêm vào DataFrame `df` một cột mới, ta dùng cú pháp tương tự như thêm một cặp `key, value` vào `dictionary`:"
   ]
  },
  {
   "cell_type": "code",
   "execution_count": 34,
   "metadata": {
    "collapsed": true
   },
   "outputs": [],
   "source": [
    "df['max_temperature (C)'] = (df['max_temperature (F)'] - 32 ) / 1.80"
   ]
  },
  {
   "cell_type": "markdown",
   "metadata": {},
   "source": [
    "__Checkpoint 5__: Hãy thêm vào các cột 'min_temperature (C)' và 'rainfall (cm)'. Cuối cùng, bạn hãy tạo một DataFrame mới `df2`, chỉ chứa các cột `'month', 'max_temperature (C)', 'min_temperature (C)', 'rainfall (cm)', 'rainy_days'` từ `df`. Chúng ta sẽ dùng `df2` cho phần Minh hoạ dữ liệu!"
   ]
  },
  {
   "cell_type": "code",
   "execution_count": 36,
   "metadata": {
    "scrolled": true
   },
   "outputs": [
    {
     "data": {
      "text/html": [
       "<div>\n",
       "<style>\n",
       "    .dataframe thead tr:only-child th {\n",
       "        text-align: right;\n",
       "    }\n",
       "\n",
       "    .dataframe thead th {\n",
       "        text-align: left;\n",
       "    }\n",
       "\n",
       "    .dataframe tbody tr th {\n",
       "        vertical-align: top;\n",
       "    }\n",
       "</style>\n",
       "<table border=\"1\" class=\"dataframe\">\n",
       "  <thead>\n",
       "    <tr style=\"text-align: right;\">\n",
       "      <th></th>\n",
       "      <th>month</th>\n",
       "      <th>max_temperature (C)</th>\n",
       "      <th>min_temperature (C)</th>\n",
       "      <th>rainfall (cm)</th>\n",
       "      <th>rainy_days</th>\n",
       "    </tr>\n",
       "  </thead>\n",
       "  <tbody>\n",
       "    <tr>\n",
       "      <th>0</th>\n",
       "      <td>1</td>\n",
       "      <td>18.888889</td>\n",
       "      <td>13.888889</td>\n",
       "      <td>2.5</td>\n",
       "      <td>9</td>\n",
       "    </tr>\n",
       "    <tr>\n",
       "      <th>1</th>\n",
       "      <td>2</td>\n",
       "      <td>20.000000</td>\n",
       "      <td>15.000000</td>\n",
       "      <td>3.0</td>\n",
       "      <td>11</td>\n",
       "    </tr>\n",
       "    <tr>\n",
       "      <th>2</th>\n",
       "      <td>3</td>\n",
       "      <td>23.333333</td>\n",
       "      <td>18.333333</td>\n",
       "      <td>4.0</td>\n",
       "      <td>15</td>\n",
       "    </tr>\n",
       "    <tr>\n",
       "      <th>3</th>\n",
       "      <td>4</td>\n",
       "      <td>26.666667</td>\n",
       "      <td>22.222222</td>\n",
       "      <td>9.0</td>\n",
       "      <td>13</td>\n",
       "    </tr>\n",
       "    <tr>\n",
       "      <th>4</th>\n",
       "      <td>5</td>\n",
       "      <td>31.666667</td>\n",
       "      <td>23.888889</td>\n",
       "      <td>18.0</td>\n",
       "      <td>14</td>\n",
       "    </tr>\n",
       "    <tr>\n",
       "      <th>5</th>\n",
       "      <td>6</td>\n",
       "      <td>32.777778</td>\n",
       "      <td>25.000000</td>\n",
       "      <td>24.0</td>\n",
       "      <td>15</td>\n",
       "    </tr>\n",
       "    <tr>\n",
       "      <th>6</th>\n",
       "      <td>7</td>\n",
       "      <td>32.222222</td>\n",
       "      <td>25.000000</td>\n",
       "      <td>28.0</td>\n",
       "      <td>16</td>\n",
       "    </tr>\n",
       "    <tr>\n",
       "      <th>7</th>\n",
       "      <td>8</td>\n",
       "      <td>32.222222</td>\n",
       "      <td>25.555556</td>\n",
       "      <td>32.5</td>\n",
       "      <td>17</td>\n",
       "    </tr>\n",
       "    <tr>\n",
       "      <th>8</th>\n",
       "      <td>9</td>\n",
       "      <td>29.444444</td>\n",
       "      <td>24.444444</td>\n",
       "      <td>27.0</td>\n",
       "      <td>14</td>\n",
       "    </tr>\n",
       "    <tr>\n",
       "      <th>9</th>\n",
       "      <td>10</td>\n",
       "      <td>25.000000</td>\n",
       "      <td>22.222222</td>\n",
       "      <td>13.0</td>\n",
       "      <td>9</td>\n",
       "    </tr>\n",
       "    <tr>\n",
       "      <th>10</th>\n",
       "      <td>11</td>\n",
       "      <td>25.000000</td>\n",
       "      <td>18.888889</td>\n",
       "      <td>5.0</td>\n",
       "      <td>8</td>\n",
       "    </tr>\n",
       "    <tr>\n",
       "      <th>11</th>\n",
       "      <td>12</td>\n",
       "      <td>22.222222</td>\n",
       "      <td>16.111111</td>\n",
       "      <td>3.0</td>\n",
       "      <td>7</td>\n",
       "    </tr>\n",
       "  </tbody>\n",
       "</table>\n",
       "</div>"
      ],
      "text/plain": [
       "    month  max_temperature (C)  min_temperature (C)  rainfall (cm)  rainy_days\n",
       "0       1            18.888889            13.888889            2.5           9\n",
       "1       2            20.000000            15.000000            3.0          11\n",
       "2       3            23.333333            18.333333            4.0          15\n",
       "3       4            26.666667            22.222222            9.0          13\n",
       "4       5            31.666667            23.888889           18.0          14\n",
       "5       6            32.777778            25.000000           24.0          15\n",
       "6       7            32.222222            25.000000           28.0          16\n",
       "7       8            32.222222            25.555556           32.5          17\n",
       "8       9            29.444444            24.444444           27.0          14\n",
       "9      10            25.000000            22.222222           13.0           9\n",
       "10     11            25.000000            18.888889            5.0           8\n",
       "11     12            22.222222            16.111111            3.0           7"
      ]
     },
     "execution_count": 36,
     "metadata": {},
     "output_type": "execute_result"
    }
   ],
   "source": [
    "df2 = ..."
   ]
  },
  {
   "cell_type": "markdown",
   "metadata": {},
   "source": [
    "## 5. Minh họa dữ liệu\n",
    "Phần này yêu cầu chúng ta phải đọc hiểu các hàm trong thư viện Pandas. Các bạn có thể tham khảo tutorial của họ để tìm thêm nhiều cách vẽ và thêm chi tiết và đồ thị: http://pandas.pydata.org/pandas-docs/stable/10min.html.\n",
    "\n",
    "Ngoài việc có thể dùng thư viện `matplotlib` để khởi tạo đồ thị, ta còn có thể dùng trực tiếp lệnh trong Pandas:"
   ]
  },
  {
   "cell_type": "code",
   "execution_count": 37,
   "metadata": {},
   "outputs": [
    {
     "data": {
      "image/png": "[encoded data removed]",
      "text/plain": [
       "<matplotlib.figure.Figure at 0x10c72d6a0>"
      ]
     },
     "metadata": {},
     "output_type": "display_data"
    }
   ],
   "source": [
    "# Dùng matplotlib\n",
    "plt.plot(df2.month, df2.rainy_days)\n",
    "plt.show()"
   ]
  },
  {
   "cell_type": "code",
   "execution_count": 38,
   "metadata": {},
   "outputs": [
    {
     "data": {
      "text/plain": [
       "<matplotlib.axes._subplots.AxesSubplot at 0x10fab9cc0>"
      ]
     },
     "execution_count": 38,
     "metadata": {},
     "output_type": "execute_result"
    }
   ],
   "source": [
    "# Dùng pandas \n",
    "df2.plot()"
   ]
  },
  {
   "cell_type": "code",
   "execution_count": 39,
   "metadata": {},
   "outputs": [
    {
     "data": {
      "image/png": "[encoded data removed]",
      "text/plain": [
       "<matplotlib.figure.Figure at 0x10c760b38>"
      ]
     },
     "metadata": {},
     "output_type": "display_data"
    }
   ],
   "source": [
    "plt.show()"
   ]
  },
  {
   "cell_type": "markdown",
   "metadata": {},
   "source": [
    "Các bạn có thể dễ dàng nhận thấy Pandas đã format sẵn màu sắc cũng như bảng giải thích kí hiệu."
   ]
  },
  {
   "cell_type": "markdown",
   "metadata": {},
   "source": [
    "__Checkpoint 6__: Hãy thử vẽ một số đồ thị tuỳ thích dựa theo những số liệu có thật, có ý nghĩa với bản thân bạn, và chia sẻ lên group Facebook để mọi người cùng biết nhé!\n",
    "\n",
    "Sau đây là một số những trang web có thể tìm thấy số liệu thống kê:\n",
    "- https://www.kaggle.com/\n",
    "- https://www.gso.gov.vn/\n",
    "- https://www.data.gov/\n",
    "- https://data.gov.uk/\n",
    "- https://data.gov.sg/\n",
    "- https://data.worldbank.org/\n",
    "- http://data.go.id/"
   ]
  }
 ],
 "metadata": {
  "kernelspec": {
   "display_name": "Python 3",
   "language": "python",
   "name": "python3"
  },
  "language_info": {
   "codemirror_mode": {
    "name": "ipython",
    "version": 3
   },
   "file_extension": ".py",
   "mimetype": "text/x-python",
   "name": "python",
   "nbconvert_exporter": "python",
   "pygments_lexer": "ipython3",
   "version": "3.6.1"
  }
 },
 "nbformat": 4,
 "nbformat_minor": 2
}
